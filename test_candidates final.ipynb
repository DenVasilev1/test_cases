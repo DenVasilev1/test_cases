{
 "cells": [
  {
   "cell_type": "markdown",
   "metadata": {},
   "source": [
    "# Тестовое"
   ]
  },
  {
   "cell_type": "markdown",
   "metadata": {},
   "source": [
    "#### - Выполненное задание должно полностью выполняться через Run All без ошибок, находять при этом в папке Тестовое. OC Windows."
   ]
  },
  {
   "cell_type": "markdown",
   "metadata": {},
   "source": [
    "Выполнил Васильев Денис"
   ]
  },
  {
   "cell_type": "code",
   "execution_count": 529,
   "metadata": {},
   "outputs": [],
   "source": [
    "import pandas as pd               #библиотека для считывания файлов с данными\n",
    "import numpy as np                  #библиотека для оругления значений?\n",
    "import matplotlib.pyplot as plt     #библиотека для графиков\n",
    "from scipy import stats as st       #библиотека для проверки гипотез\n",
    "import math as mth\n",
    "import seaborn as sns\n",
    "from io import StringIO\n",
    "#import plotly.express as px\n",
    "#from plotly import graph_objects as go"
   ]
  },
  {
   "cell_type": "markdown",
   "metadata": {},
   "source": [
    "## 1. Задание\n",
    "\n",
    "Написать функцию которая удаляет дубликаты из списка сохраняя его порядок. На вход ф-ции подается список, на выходе "
   ]
  },
  {
   "cell_type": "code",
   "execution_count": 584,
   "metadata": {},
   "outputs": [],
   "source": [
    "ls = ['one', 'two', 'one', 'two', 'three', 'two', 'one', 'four', 'three', 'five']"
   ]
  },
  {
   "cell_type": "code",
   "execution_count": 585,
   "metadata": {},
   "outputs": [
    {
     "name": "stdout",
     "output_type": "stream",
     "text": [
      "['one', 'two', 'three', 'four', 'five']\n"
     ]
    }
   ],
   "source": [
    "def remove_duplicates(ls):\n",
    "    seen = set()\n",
    "    result = []\n",
    "    \n",
    "    for item in ls:\n",
    "        if item not in seen:\n",
    "            seen.add(item)\n",
    "            result.append(item)\n",
    "            \n",
    "    return result\n",
    "\n",
    "# Проверка функции\n",
    "print(remove_duplicates(ls))"
   ]
  },
  {
   "cell_type": "markdown",
   "metadata": {},
   "source": [
    "## 2. Задание\n",
    "\n",
    "- В папке Reports находятся excel файлы с выгрузками из базы данных по каждому дню, файлы имеют схожее название типа - \"DAG-111_patients_2023-02-01.xlsx\" имеют общую структуру, могут иметь несколько листов данных. Их нужно объединить в один ДатаСет и в нем должна содержатся колонка, в которой информация из, какого файла загружена запись\n",
    "\n",
    "- Файлы со значениями анализов пациентов за 2022 и 2023 год. Нужно посчитать среднее значение показателей пациентов за 2023 год общее и по каждому пациенту в отдельности.\n",
    "\n",
    "Файл имеет 2 столбца:\n",
    "    id - id пациента\n",
    "    values - перечисленные анализы пациента разделенные \";\"\n",
    "\n",
    "- Помимо предложеного расчета, предложите свой\\свои варианты."
   ]
  },
  {
   "cell_type": "code",
   "execution_count": 535,
   "metadata": {},
   "outputs": [],
   "source": [
    "#function функция для разделения excel файла\n",
    "\n",
    "\n",
    "def myfunction(file): \n",
    "\n",
    "    sheets_data = pd.read_excel(file, sheet_name=None)\n",
    "    file_name = file.split('/')[-1]\n",
    "\n",
    "    dataset = pd.DataFrame(columns = ['date', 'value', 'id', 'file_name'])\n",
    "    # Можно перебрать листы и вывести заголовки столбцов каждого листа\n",
    "    for sheet_name, df in sheets_data.items():\n",
    "        #print(f\"\\nЛист '{sheet_name}' имеет следующие колонки:\")\n",
    "        #print(df.columns.tolist())\n",
    "        #print(df)\n",
    "        #print(df['values'].str.split(';').explode().str.split(' - '))\n",
    "        a = df['values'].str.split(';').explode().str.split(' - ')\n",
    "        res = pd.DataFrame(a.to_list(), columns = ['date', 'value'])\n",
    "        res['id'] = int(df['id'])\n",
    "        res['file_name'] = file_name\n",
    "        #dataset = dataset.append(res)\n",
    "        dataset = pd.concat([dataset, res])\n",
    "            \n",
    "    return dataset"
   ]
  },
  {
   "cell_type": "markdown",
   "metadata": {},
   "source": [
    "путь к файлам dag"
   ]
  },
  {
   "cell_type": "code",
   "execution_count": 536,
   "metadata": {},
   "outputs": [],
   "source": [
    "dag1_excel = '/Users/denisvasilev/Documents/Тестовое/DAG-111_patients_2023-02-01.xlsx'"
   ]
  },
  {
   "cell_type": "code",
   "execution_count": 537,
   "metadata": {},
   "outputs": [],
   "source": [
    "dag2_excel = '/Users/denisvasilev/Documents/Тестовое/DAG-111_patients_2023-02-02.xlsx'"
   ]
  },
  {
   "cell_type": "code",
   "execution_count": 538,
   "metadata": {},
   "outputs": [],
   "source": [
    "dag3_excel = '/Users/denisvasilev/Documents/Тестовое/DAG-111_patients_2023-02-03.xlsx'"
   ]
  },
  {
   "cell_type": "code",
   "execution_count": null,
   "metadata": {},
   "outputs": [],
   "source": []
  },
  {
   "cell_type": "code",
   "execution_count": 539,
   "metadata": {},
   "outputs": [],
   "source": [
    "#используем функцию для вывода всех листов excel файла\n",
    "dag1 = myfunction(dag1_excel)"
   ]
  },
  {
   "cell_type": "code",
   "execution_count": 540,
   "metadata": {},
   "outputs": [],
   "source": [
    "#заменяем , на .\n",
    "dag1['value']= dag1['value'].str.replace(',', '.')"
   ]
  },
  {
   "cell_type": "code",
   "execution_count": 541,
   "metadata": {},
   "outputs": [],
   "source": [
    "#заменяем тип данных obj на float\n",
    "dag1['value'] = dag1['value'].astype(float)"
   ]
  },
  {
   "cell_type": "code",
   "execution_count": 542,
   "metadata": {},
   "outputs": [],
   "source": [
    "#убераем пустые символы перед и после даты\n",
    "dag1['date'] = dag1['date'].str.strip()"
   ]
  },
  {
   "cell_type": "code",
   "execution_count": 543,
   "metadata": {},
   "outputs": [],
   "source": [
    "dag2 = myfunction(dag2_excel)\n",
    "dag2['value']= dag2['value'].str.replace(',', '.')"
   ]
  },
  {
   "cell_type": "code",
   "execution_count": 544,
   "metadata": {},
   "outputs": [],
   "source": [
    "#удаляем лишнее \n",
    "dag2['value'] = dag2['value'].replace({' \\(Хилезная сыворотка\\)': ''}, regex = True)"
   ]
  },
  {
   "cell_type": "code",
   "execution_count": 545,
   "metadata": {},
   "outputs": [],
   "source": [
    "dag2['value'] = dag2['value'].astype(float)\n",
    "dag2['date'] = dag2['date'].str.strip()"
   ]
  },
  {
   "cell_type": "code",
   "execution_count": 546,
   "metadata": {},
   "outputs": [
    {
     "data": {
      "text/html": [
       "<div>\n",
       "<style scoped>\n",
       "    .dataframe tbody tr th:only-of-type {\n",
       "        vertical-align: middle;\n",
       "    }\n",
       "\n",
       "    .dataframe tbody tr th {\n",
       "        vertical-align: top;\n",
       "    }\n",
       "\n",
       "    .dataframe thead th {\n",
       "        text-align: right;\n",
       "    }\n",
       "</style>\n",
       "<table border=\"1\" class=\"dataframe\">\n",
       "  <thead>\n",
       "    <tr style=\"text-align: right;\">\n",
       "      <th></th>\n",
       "      <th>date</th>\n",
       "      <th>value</th>\n",
       "      <th>id</th>\n",
       "      <th>file_name</th>\n",
       "    </tr>\n",
       "  </thead>\n",
       "  <tbody>\n",
       "    <tr>\n",
       "      <th>0</th>\n",
       "      <td>2022-06-07</td>\n",
       "      <td>127.00</td>\n",
       "      <td>9</td>\n",
       "      <td>DAG-111_patients_2023-02-02.xlsx</td>\n",
       "    </tr>\n",
       "    <tr>\n",
       "      <th>1</th>\n",
       "      <td>2022-09-16</td>\n",
       "      <td>120.18</td>\n",
       "      <td>9</td>\n",
       "      <td>DAG-111_patients_2023-02-02.xlsx</td>\n",
       "    </tr>\n",
       "    <tr>\n",
       "      <th>2</th>\n",
       "      <td>2023-05-12</td>\n",
       "      <td>130.56</td>\n",
       "      <td>9</td>\n",
       "      <td>DAG-111_patients_2023-02-02.xlsx</td>\n",
       "    </tr>\n",
       "    <tr>\n",
       "      <th>0</th>\n",
       "      <td>2022-07-01</td>\n",
       "      <td>80.10</td>\n",
       "      <td>6</td>\n",
       "      <td>DAG-111_patients_2023-02-02.xlsx</td>\n",
       "    </tr>\n",
       "    <tr>\n",
       "      <th>1</th>\n",
       "      <td>2022-12-03</td>\n",
       "      <td>88.30</td>\n",
       "      <td>6</td>\n",
       "      <td>DAG-111_patients_2023-02-02.xlsx</td>\n",
       "    </tr>\n",
       "  </tbody>\n",
       "</table>\n",
       "</div>"
      ],
      "text/plain": [
       "         date   value id                         file_name\n",
       "0  2022-06-07  127.00  9  DAG-111_patients_2023-02-02.xlsx\n",
       "1  2022-09-16  120.18  9  DAG-111_patients_2023-02-02.xlsx\n",
       "2  2023-05-12  130.56  9  DAG-111_patients_2023-02-02.xlsx\n",
       "0  2022-07-01   80.10  6  DAG-111_patients_2023-02-02.xlsx\n",
       "1  2022-12-03   88.30  6  DAG-111_patients_2023-02-02.xlsx"
      ]
     },
     "execution_count": 546,
     "metadata": {},
     "output_type": "execute_result"
    }
   ],
   "source": [
    "dag2.head()"
   ]
  },
  {
   "cell_type": "code",
   "execution_count": 547,
   "metadata": {},
   "outputs": [],
   "source": [
    "dag3 = myfunction(dag3_excel)\n",
    "dag3['value']= dag3['value'].str.replace(',', '.')"
   ]
  },
  {
   "cell_type": "code",
   "execution_count": 548,
   "metadata": {},
   "outputs": [],
   "source": [
    "#удаляем лишнее \n",
    "dag3 = dag3.query (\"value != 'Хил'\")"
   ]
  },
  {
   "cell_type": "code",
   "execution_count": 549,
   "metadata": {},
   "outputs": [],
   "source": [
    "dag3['value'] = dag3['value'].astype(float)\n",
    "dag3['date'] = dag3['date'].str.strip()"
   ]
  },
  {
   "cell_type": "code",
   "execution_count": 550,
   "metadata": {},
   "outputs": [
    {
     "data": {
      "text/html": [
       "<div>\n",
       "<style scoped>\n",
       "    .dataframe tbody tr th:only-of-type {\n",
       "        vertical-align: middle;\n",
       "    }\n",
       "\n",
       "    .dataframe tbody tr th {\n",
       "        vertical-align: top;\n",
       "    }\n",
       "\n",
       "    .dataframe thead th {\n",
       "        text-align: right;\n",
       "    }\n",
       "</style>\n",
       "<table border=\"1\" class=\"dataframe\">\n",
       "  <thead>\n",
       "    <tr style=\"text-align: right;\">\n",
       "      <th></th>\n",
       "      <th>date</th>\n",
       "      <th>value</th>\n",
       "      <th>id</th>\n",
       "      <th>file_name</th>\n",
       "    </tr>\n",
       "  </thead>\n",
       "  <tbody>\n",
       "    <tr>\n",
       "      <th>0</th>\n",
       "      <td>2022-09-08</td>\n",
       "      <td>69.04</td>\n",
       "      <td>4</td>\n",
       "      <td>DAG-111_patients_2023-02-03.xlsx</td>\n",
       "    </tr>\n",
       "    <tr>\n",
       "      <th>1</th>\n",
       "      <td>2022-09-29</td>\n",
       "      <td>78.10</td>\n",
       "      <td>4</td>\n",
       "      <td>DAG-111_patients_2023-02-03.xlsx</td>\n",
       "    </tr>\n",
       "    <tr>\n",
       "      <th>3</th>\n",
       "      <td>2022-11-01</td>\n",
       "      <td>66.77</td>\n",
       "      <td>4</td>\n",
       "      <td>DAG-111_patients_2023-02-03.xlsx</td>\n",
       "    </tr>\n",
       "    <tr>\n",
       "      <th>4</th>\n",
       "      <td>2023-03-22</td>\n",
       "      <td>73.30</td>\n",
       "      <td>4</td>\n",
       "      <td>DAG-111_patients_2023-02-03.xlsx</td>\n",
       "    </tr>\n",
       "    <tr>\n",
       "      <th>0</th>\n",
       "      <td>2022-02-26</td>\n",
       "      <td>89.00</td>\n",
       "      <td>3</td>\n",
       "      <td>DAG-111_patients_2023-02-03.xlsx</td>\n",
       "    </tr>\n",
       "  </tbody>\n",
       "</table>\n",
       "</div>"
      ],
      "text/plain": [
       "         date  value id                         file_name\n",
       "0  2022-09-08  69.04  4  DAG-111_patients_2023-02-03.xlsx\n",
       "1  2022-09-29  78.10  4  DAG-111_patients_2023-02-03.xlsx\n",
       "3  2022-11-01  66.77  4  DAG-111_patients_2023-02-03.xlsx\n",
       "4  2023-03-22  73.30  4  DAG-111_patients_2023-02-03.xlsx\n",
       "0  2022-02-26  89.00  3  DAG-111_patients_2023-02-03.xlsx"
      ]
     },
     "execution_count": 550,
     "metadata": {},
     "output_type": "execute_result"
    }
   ],
   "source": [
    "dag3.head()"
   ]
  },
  {
   "cell_type": "markdown",
   "metadata": {},
   "source": [
    "соединяем три файла dag1, dag2 и dag3"
   ]
  },
  {
   "cell_type": "code",
   "execution_count": 551,
   "metadata": {},
   "outputs": [],
   "source": [
    "dag123 = pd.concat([dag1, dag2, dag3])"
   ]
  },
  {
   "cell_type": "markdown",
   "metadata": {},
   "source": [
    "делаем срез за 2023 год"
   ]
  },
  {
   "cell_type": "code",
   "execution_count": 552,
   "metadata": {},
   "outputs": [],
   "source": [
    "dag123_2023 = dag123.query(\"date.str.contains('2023')\")"
   ]
  },
  {
   "cell_type": "markdown",
   "metadata": {},
   "source": [
    "считаем общее среднее значение по пациентам за 2023 год"
   ]
  },
  {
   "cell_type": "code",
   "execution_count": 553,
   "metadata": {},
   "outputs": [
    {
     "name": "stdout",
     "output_type": "stream",
     "text": [
      "общее среднее значение по пациентам за 2023 год = 80.99\n"
     ]
    }
   ],
   "source": [
    "mean_value_all = round(dag123_2023['value'].mean(),2)\n",
    "print('общее среднее значение по пациентам за 2023 год =', mean_value_all)"
   ]
  },
  {
   "cell_type": "markdown",
   "metadata": {},
   "source": [
    "считаем среднее значение показателей по каждому пациенту в отдельности"
   ]
  },
  {
   "cell_type": "code",
   "execution_count": 554,
   "metadata": {},
   "outputs": [
    {
     "name": "stdout",
     "output_type": "stream",
     "text": [
      "среднее значение показателей по каждому пациенту в отдельности id\n",
      "1     72.500000\n",
      "2     85.400000\n",
      "3     90.920000\n",
      "4     73.300000\n",
      "5     67.000000\n",
      "6     80.900000\n",
      "7     58.713333\n",
      "8     70.300000\n",
      "9    130.560000\n",
      "Name: value, dtype: float64\n"
     ]
    }
   ],
   "source": [
    "dag123_2023_user = dag123_2023.groupby('id')['value'].mean()\n",
    "print('среднее значение показателей по каждому пациенту в отдельности', dag123_2023_user)"
   ]
  },
  {
   "cell_type": "markdown",
   "metadata": {},
   "source": [
    "## 3. Задание\n",
    "\n",
    "- В папке visits файл посещения. Столбцу \"Список пройденных исследований\" соответствует \"Список дат пройденных исследований\".\n",
    "-  Необходимо произвести очистку от дублей и оставить последние актуальные анализы(каждому уникальному анализу должна соответствовать последняя дата)"
   ]
  },
  {
   "cell_type": "code",
   "execution_count": 555,
   "metadata": {},
   "outputs": [],
   "source": [
    "#посещения\n",
    "visits_excel = '/Users/denisvasilev/Documents/Тестовое/посещения.xlsx'"
   ]
  },
  {
   "cell_type": "code",
   "execution_count": 556,
   "metadata": {},
   "outputs": [],
   "source": [
    "pos = pd.read_excel(visits_excel)"
   ]
  },
  {
   "cell_type": "code",
   "execution_count": 557,
   "metadata": {},
   "outputs": [],
   "source": [
    "pos = pos[['Список пройденных исследований', 'Список дат пройденных исследований']]"
   ]
  },
  {
   "cell_type": "code",
   "execution_count": 558,
   "metadata": {},
   "outputs": [],
   "source": [
    "pos.columns = ['analysis', 'dates']"
   ]
  },
  {
   "cell_type": "code",
   "execution_count": 559,
   "metadata": {},
   "outputs": [
    {
     "data": {
      "text/html": [
       "<div>\n",
       "<style scoped>\n",
       "    .dataframe tbody tr th:only-of-type {\n",
       "        vertical-align: middle;\n",
       "    }\n",
       "\n",
       "    .dataframe tbody tr th {\n",
       "        vertical-align: top;\n",
       "    }\n",
       "\n",
       "    .dataframe thead th {\n",
       "        text-align: right;\n",
       "    }\n",
       "</style>\n",
       "<table border=\"1\" class=\"dataframe\">\n",
       "  <thead>\n",
       "    <tr style=\"text-align: right;\">\n",
       "      <th></th>\n",
       "      <th>analysis</th>\n",
       "      <th>dates</th>\n",
       "    </tr>\n",
       "  </thead>\n",
       "  <tbody>\n",
       "    <tr>\n",
       "      <th>0</th>\n",
       "      <td>ESLI.LI.C.1.21 - Исследование микроальбумина в...</td>\n",
       "      <td>2023-08-03; 2023-08-04; 2023-08-03; 2023-08-01...</td>\n",
       "    </tr>\n",
       "    <tr>\n",
       "      <th>1</th>\n",
       "      <td>ESLI.LI.C.1.21 - Исследование микроальбумина в...</td>\n",
       "      <td>2023-08-03; 2023-08-04; 2023-08-03</td>\n",
       "    </tr>\n",
       "    <tr>\n",
       "      <th>2</th>\n",
       "      <td>243 - Эхокардиография; 12 - ЭКГ</td>\n",
       "      <td>2023-11-13; 2023-08-30</td>\n",
       "    </tr>\n",
       "    <tr>\n",
       "      <th>3</th>\n",
       "      <td>ESLI.LI.C.1.21 - Исследование микроальбумина в...</td>\n",
       "      <td>2023-10-26; 2023-10-02; 2023-10-02; 2023-10-02...</td>\n",
       "    </tr>\n",
       "    <tr>\n",
       "      <th>4</th>\n",
       "      <td>25 - Кардиология; ESLI.LI.C.2.2 - Общий клинич...</td>\n",
       "      <td>2023-10-21; 2023-10-04; 2023-10-03; 2023-10-03...</td>\n",
       "    </tr>\n",
       "    <tr>\n",
       "      <th>5</th>\n",
       "      <td>ESLI.LI.C.1.16 - Липидный профиль (комплекс); ...</td>\n",
       "      <td>2023-10-28; 2023-10-28; 2023-10-28; 2023-10-27...</td>\n",
       "    </tr>\n",
       "    <tr>\n",
       "      <th>6</th>\n",
       "      <td>ESLI.LI.1.19.1 - Определение гемоглобина А1с (...</td>\n",
       "      <td>2023-11-17; 2023-05-02; 2023-04-28; 2023-04-28...</td>\n",
       "    </tr>\n",
       "    <tr>\n",
       "      <th>7</th>\n",
       "      <td>ESLI.LI.1.8.3 - Определение креатинина; ESLI.L...</td>\n",
       "      <td>2023-11-23; 2023-11-23; 2023-11-23; 2023-11-23...</td>\n",
       "    </tr>\n",
       "  </tbody>\n",
       "</table>\n",
       "</div>"
      ],
      "text/plain": [
       "                                            analysis  \\\n",
       "0  ESLI.LI.C.1.21 - Исследование микроальбумина в...   \n",
       "1  ESLI.LI.C.1.21 - Исследование микроальбумина в...   \n",
       "2                    243 - Эхокардиография; 12 - ЭКГ   \n",
       "3  ESLI.LI.C.1.21 - Исследование микроальбумина в...   \n",
       "4  25 - Кардиология; ESLI.LI.C.2.2 - Общий клинич...   \n",
       "5  ESLI.LI.C.1.16 - Липидный профиль (комплекс); ...   \n",
       "6  ESLI.LI.1.19.1 - Определение гемоглобина А1с (...   \n",
       "7  ESLI.LI.1.8.3 - Определение креатинина; ESLI.L...   \n",
       "\n",
       "                                               dates  \n",
       "0  2023-08-03; 2023-08-04; 2023-08-03; 2023-08-01...  \n",
       "1                 2023-08-03; 2023-08-04; 2023-08-03  \n",
       "2                             2023-11-13; 2023-08-30  \n",
       "3  2023-10-26; 2023-10-02; 2023-10-02; 2023-10-02...  \n",
       "4  2023-10-21; 2023-10-04; 2023-10-03; 2023-10-03...  \n",
       "5  2023-10-28; 2023-10-28; 2023-10-28; 2023-10-27...  \n",
       "6  2023-11-17; 2023-05-02; 2023-04-28; 2023-04-28...  \n",
       "7  2023-11-23; 2023-11-23; 2023-11-23; 2023-11-23...  "
      ]
     },
     "execution_count": 559,
     "metadata": {},
     "output_type": "execute_result"
    }
   ],
   "source": [
    "pos"
   ]
  },
  {
   "cell_type": "code",
   "execution_count": 560,
   "metadata": {},
   "outputs": [],
   "source": [
    "t1 = pos['analysis'].str.split(';').explode().str.split('-')"
   ]
  },
  {
   "cell_type": "code",
   "execution_count": 561,
   "metadata": {},
   "outputs": [
    {
     "data": {
      "text/plain": [
       "48"
      ]
     },
     "execution_count": 561,
     "metadata": {},
     "output_type": "execute_result"
    }
   ],
   "source": [
    "t1.count()"
   ]
  },
  {
   "cell_type": "code",
   "execution_count": 562,
   "metadata": {},
   "outputs": [],
   "source": [
    "t2 = pos['dates'].str.split(';').explode()"
   ]
  },
  {
   "cell_type": "code",
   "execution_count": 563,
   "metadata": {},
   "outputs": [
    {
     "data": {
      "text/plain": [
       "46"
      ]
     },
     "execution_count": 563,
     "metadata": {},
     "output_type": "execute_result"
    }
   ],
   "source": [
    "t2.count()"
   ]
  },
  {
   "cell_type": "markdown",
   "metadata": {},
   "source": [
    "не совпадает кол-во строк"
   ]
  },
  {
   "cell_type": "code",
   "execution_count": 564,
   "metadata": {},
   "outputs": [],
   "source": [
    "#выбираем код анализа\n",
    "t1 = t1.apply(lambda x: x[0] )"
   ]
  },
  {
   "cell_type": "code",
   "execution_count": 565,
   "metadata": {},
   "outputs": [
    {
     "data": {
      "text/plain": [
       "array(['25 ', ' ESLI.LI.C.2.2 ',\n",
       "       ' микроскопическое исследование мазка крови при выявлении патологии',\n",
       "       ' ESLI.LI.1.47.7 ', ' ESLI.LI.1.42.13 ', ' ESLI.LI.C.1.16 ',\n",
       "       ' ESLI.LI.1.8.3 ', ' ESLI.LI.C.1.1 ', ' 12 ', ' 243 '],\n",
       "      dtype=object)"
      ]
     },
     "execution_count": 565,
     "metadata": {},
     "output_type": "execute_result"
    }
   ],
   "source": [
    "t1[4].unique()"
   ]
  },
  {
   "cell_type": "code",
   "execution_count": 566,
   "metadata": {},
   "outputs": [],
   "source": [
    "#удаляем значение, которое не является кодом анализа\n",
    "t1 = t1[t1 != ' микроскопическое исследование мазка крови при выявлении патологии']"
   ]
  },
  {
   "cell_type": "code",
   "execution_count": 567,
   "metadata": {},
   "outputs": [
    {
     "data": {
      "text/plain": [
       "46"
      ]
     },
     "execution_count": 567,
     "metadata": {},
     "output_type": "execute_result"
    }
   ],
   "source": [
    "t1.count()"
   ]
  },
  {
   "cell_type": "code",
   "execution_count": 568,
   "metadata": {},
   "outputs": [
    {
     "data": {
      "text/plain": [
       "46"
      ]
     },
     "execution_count": 568,
     "metadata": {},
     "output_type": "execute_result"
    }
   ],
   "source": [
    "pos['dates'].str.split(';').explode().count()"
   ]
  },
  {
   "cell_type": "code",
   "execution_count": 569,
   "metadata": {},
   "outputs": [],
   "source": [
    "table = pd.concat([t1,t2], axis = 1)"
   ]
  },
  {
   "cell_type": "code",
   "execution_count": 570,
   "metadata": {},
   "outputs": [
    {
     "data": {
      "text/html": [
       "<div>\n",
       "<style scoped>\n",
       "    .dataframe tbody tr th:only-of-type {\n",
       "        vertical-align: middle;\n",
       "    }\n",
       "\n",
       "    .dataframe tbody tr th {\n",
       "        vertical-align: top;\n",
       "    }\n",
       "\n",
       "    .dataframe thead th {\n",
       "        text-align: right;\n",
       "    }\n",
       "</style>\n",
       "<table border=\"1\" class=\"dataframe\">\n",
       "  <thead>\n",
       "    <tr style=\"text-align: right;\">\n",
       "      <th></th>\n",
       "      <th>analysis</th>\n",
       "      <th>dates</th>\n",
       "    </tr>\n",
       "  </thead>\n",
       "  <tbody>\n",
       "    <tr>\n",
       "      <th>1</th>\n",
       "      <td>ESLI.LI.C.1.21</td>\n",
       "      <td>2023-08-03</td>\n",
       "    </tr>\n",
       "    <tr>\n",
       "      <th>1</th>\n",
       "      <td>12</td>\n",
       "      <td>2023-08-04</td>\n",
       "    </tr>\n",
       "    <tr>\n",
       "      <th>1</th>\n",
       "      <td>243</td>\n",
       "      <td>2023-08-03</td>\n",
       "    </tr>\n",
       "  </tbody>\n",
       "</table>\n",
       "</div>"
      ],
      "text/plain": [
       "          analysis        dates\n",
       "1  ESLI.LI.C.1.21    2023-08-03\n",
       "1              12    2023-08-04\n",
       "1             243    2023-08-03"
      ]
     },
     "execution_count": 570,
     "metadata": {},
     "output_type": "execute_result"
    }
   ],
   "source": [
    "table[table.duplicated()]"
   ]
  },
  {
   "cell_type": "code",
   "execution_count": 571,
   "metadata": {},
   "outputs": [],
   "source": [
    "table['analysis'] = table['analysis'].str.strip()"
   ]
  },
  {
   "cell_type": "code",
   "execution_count": 572,
   "metadata": {},
   "outputs": [
    {
     "data": {
      "text/plain": [
       "analysis\n",
       "12                  2023-11-22\n",
       "243                 2023-11-13\n",
       "25                  2023-10-21\n",
       "ESLI.LI.1.19.1      2023-11-17\n",
       "ESLI.LI.1.4.5       2023-10-27\n",
       "ESLI.LI.1.42.13     2023-10-03\n",
       "ESLI.LI.1.47.7      2023-11-23\n",
       "ESLI.LI.1.8.1       2023-04-28\n",
       "ESLI.LI.1.8.3       2023-11-23\n",
       "ESLI.LI.1.8.7       2023-04-28\n",
       "ESLI.LI.C.1.1       2023-10-03\n",
       "ESLI.LI.C.1.16      2023-10-28\n",
       "ESLI.LI.C.1.2       2023-11-23\n",
       "ESLI.LI.C.1.21      2023-10-26\n",
       "ESLI.LI.C.2.2       2023-10-04\n",
       "Name: dates, dtype: object"
      ]
     },
     "execution_count": 572,
     "metadata": {},
     "output_type": "execute_result"
    }
   ],
   "source": [
    "# Получаем для каждого анализа последнюю дату\n",
    "table.groupby('analysis')['dates'].max()"
   ]
  },
  {
   "cell_type": "markdown",
   "metadata": {},
   "source": [
    "## 4. Задание\n",
    "\n",
    "- В папке visits файл посещения.\n",
    "- В папке visits файл словарь.\n",
    "\n",
    "- Необходимо произвести категоризацию диагнозов из столбца \"Код мкб-10\" файла посещения:\n",
    "  - Создать словарь из файла словарь, колонка \"Группа ДН\" - ключ, колонка \"kod_mkb_10\" - значения.\n",
    "  - Вывести результат в новом столбце(\"dn\") файла посещения - без дублей, сортированный"
   ]
  },
  {
   "cell_type": "markdown",
   "metadata": {},
   "source": [
    "посещения"
   ]
  },
  {
   "cell_type": "code",
   "execution_count": 573,
   "metadata": {},
   "outputs": [
    {
     "data": {
      "text/html": [
       "<div>\n",
       "<style scoped>\n",
       "    .dataframe tbody tr th:only-of-type {\n",
       "        vertical-align: middle;\n",
       "    }\n",
       "\n",
       "    .dataframe tbody tr th {\n",
       "        vertical-align: top;\n",
       "    }\n",
       "\n",
       "    .dataframe thead th {\n",
       "        text-align: right;\n",
       "    }\n",
       "</style>\n",
       "<table border=\"1\" class=\"dataframe\">\n",
       "  <thead>\n",
       "    <tr style=\"text-align: right;\">\n",
       "      <th></th>\n",
       "      <th>ИД пациента</th>\n",
       "      <th>Дата диспансерного приема</th>\n",
       "      <th>Код мкб-10</th>\n",
       "      <th>Список пройденных исследований</th>\n",
       "      <th>Список дат пройденных исследований</th>\n",
       "    </tr>\n",
       "  </thead>\n",
       "  <tbody>\n",
       "    <tr>\n",
       "      <th>0</th>\n",
       "      <td>123</td>\n",
       "      <td>2023-11-09</td>\n",
       "      <td>I11.0</td>\n",
       "      <td>ESLI.LI.C.1.21 - Исследование микроальбумина в...</td>\n",
       "      <td>2023-08-03; 2023-08-04; 2023-08-03; 2023-08-01...</td>\n",
       "    </tr>\n",
       "    <tr>\n",
       "      <th>1</th>\n",
       "      <td>1234</td>\n",
       "      <td>2023-11-27</td>\n",
       "      <td>I11.0</td>\n",
       "      <td>ESLI.LI.C.1.21 - Исследование микроальбумина в...</td>\n",
       "      <td>2023-08-03; 2023-08-04; 2023-08-03</td>\n",
       "    </tr>\n",
       "    <tr>\n",
       "      <th>2</th>\n",
       "      <td>12345</td>\n",
       "      <td>2023-11-25</td>\n",
       "      <td>I11.9</td>\n",
       "      <td>243 - Эхокардиография; 12 - ЭКГ</td>\n",
       "      <td>2023-11-13; 2023-08-30</td>\n",
       "    </tr>\n",
       "    <tr>\n",
       "      <th>3</th>\n",
       "      <td>12</td>\n",
       "      <td>2023-11-01</td>\n",
       "      <td>I11.9</td>\n",
       "      <td>ESLI.LI.C.1.21 - Исследование микроальбумина в...</td>\n",
       "      <td>2023-10-26; 2023-10-02; 2023-10-02; 2023-10-02...</td>\n",
       "    </tr>\n",
       "    <tr>\n",
       "      <th>4</th>\n",
       "      <td>1</td>\n",
       "      <td>2023-11-13</td>\n",
       "      <td>I25.1;I11.9</td>\n",
       "      <td>25 - Кардиология; ESLI.LI.C.2.2 - Общий клинич...</td>\n",
       "      <td>2023-10-21; 2023-10-04; 2023-10-03; 2023-10-03...</td>\n",
       "    </tr>\n",
       "    <tr>\n",
       "      <th>5</th>\n",
       "      <td>5654</td>\n",
       "      <td>2023-11-29</td>\n",
       "      <td>I11.9</td>\n",
       "      <td>ESLI.LI.C.1.16 - Липидный профиль (комплекс); ...</td>\n",
       "      <td>2023-10-28; 2023-10-28; 2023-10-28; 2023-10-27...</td>\n",
       "    </tr>\n",
       "    <tr>\n",
       "      <th>6</th>\n",
       "      <td>9</td>\n",
       "      <td>2023-11-30</td>\n",
       "      <td>E11.9;I11.9</td>\n",
       "      <td>ESLI.LI.1.19.1 - Определение гемоглобина А1с (...</td>\n",
       "      <td>2023-11-17; 2023-05-02; 2023-04-28; 2023-04-28...</td>\n",
       "    </tr>\n",
       "    <tr>\n",
       "      <th>7</th>\n",
       "      <td>456</td>\n",
       "      <td>2023-11-23</td>\n",
       "      <td>I25.1</td>\n",
       "      <td>ESLI.LI.1.8.3 - Определение креатинина; ESLI.L...</td>\n",
       "      <td>2023-11-23; 2023-11-23; 2023-11-23; 2023-11-23...</td>\n",
       "    </tr>\n",
       "  </tbody>\n",
       "</table>\n",
       "</div>"
      ],
      "text/plain": [
       "   ИД пациента Дата диспансерного приема   Код мкб-10  \\\n",
       "0          123                2023-11-09        I11.0   \n",
       "1         1234                2023-11-27        I11.0   \n",
       "2        12345                2023-11-25        I11.9   \n",
       "3           12                2023-11-01        I11.9   \n",
       "4            1                2023-11-13  I25.1;I11.9   \n",
       "5         5654                2023-11-29        I11.9   \n",
       "6            9                2023-11-30  E11.9;I11.9   \n",
       "7          456                2023-11-23        I25.1   \n",
       "\n",
       "                      Список пройденных исследований  \\\n",
       "0  ESLI.LI.C.1.21 - Исследование микроальбумина в...   \n",
       "1  ESLI.LI.C.1.21 - Исследование микроальбумина в...   \n",
       "2                    243 - Эхокардиография; 12 - ЭКГ   \n",
       "3  ESLI.LI.C.1.21 - Исследование микроальбумина в...   \n",
       "4  25 - Кардиология; ESLI.LI.C.2.2 - Общий клинич...   \n",
       "5  ESLI.LI.C.1.16 - Липидный профиль (комплекс); ...   \n",
       "6  ESLI.LI.1.19.1 - Определение гемоглобина А1с (...   \n",
       "7  ESLI.LI.1.8.3 - Определение креатинина; ESLI.L...   \n",
       "\n",
       "                  Список дат пройденных исследований  \n",
       "0  2023-08-03; 2023-08-04; 2023-08-03; 2023-08-01...  \n",
       "1                 2023-08-03; 2023-08-04; 2023-08-03  \n",
       "2                             2023-11-13; 2023-08-30  \n",
       "3  2023-10-26; 2023-10-02; 2023-10-02; 2023-10-02...  \n",
       "4  2023-10-21; 2023-10-04; 2023-10-03; 2023-10-03...  \n",
       "5  2023-10-28; 2023-10-28; 2023-10-28; 2023-10-27...  \n",
       "6  2023-11-17; 2023-05-02; 2023-04-28; 2023-04-28...  \n",
       "7  2023-11-23; 2023-11-23; 2023-11-23; 2023-11-23...  "
      ]
     },
     "execution_count": 573,
     "metadata": {},
     "output_type": "execute_result"
    }
   ],
   "source": [
    "visits = pd.read_excel(visits_excel)\n",
    "visits"
   ]
  },
  {
   "cell_type": "markdown",
   "metadata": {},
   "source": [
    "словарь"
   ]
  },
  {
   "cell_type": "code",
   "execution_count": 574,
   "metadata": {},
   "outputs": [
    {
     "data": {
      "text/html": [
       "<div>\n",
       "<style scoped>\n",
       "    .dataframe tbody tr th:only-of-type {\n",
       "        vertical-align: middle;\n",
       "    }\n",
       "\n",
       "    .dataframe tbody tr th {\n",
       "        vertical-align: top;\n",
       "    }\n",
       "\n",
       "    .dataframe thead th {\n",
       "        text-align: right;\n",
       "    }\n",
       "</style>\n",
       "<table border=\"1\" class=\"dataframe\">\n",
       "  <thead>\n",
       "    <tr style=\"text-align: right;\">\n",
       "      <th></th>\n",
       "      <th>Группа ДН</th>\n",
       "      <th>kod_mkb_10</th>\n",
       "    </tr>\n",
       "  </thead>\n",
       "  <tbody>\n",
       "    <tr>\n",
       "      <th>0</th>\n",
       "      <td>СД2</td>\n",
       "      <td>E11</td>\n",
       "    </tr>\n",
       "    <tr>\n",
       "      <th>1</th>\n",
       "      <td>СД2</td>\n",
       "      <td>E11.2</td>\n",
       "    </tr>\n",
       "    <tr>\n",
       "      <th>2</th>\n",
       "      <td>СД2</td>\n",
       "      <td>E11.3</td>\n",
       "    </tr>\n",
       "    <tr>\n",
       "      <th>3</th>\n",
       "      <td>СД2</td>\n",
       "      <td>E11.4</td>\n",
       "    </tr>\n",
       "    <tr>\n",
       "      <th>4</th>\n",
       "      <td>СД2</td>\n",
       "      <td>E11.5</td>\n",
       "    </tr>\n",
       "    <tr>\n",
       "      <th>...</th>\n",
       "      <td>...</td>\n",
       "      <td>...</td>\n",
       "    </tr>\n",
       "    <tr>\n",
       "      <th>137</th>\n",
       "      <td>ЯБЖ</td>\n",
       "      <td>K25.7</td>\n",
       "    </tr>\n",
       "    <tr>\n",
       "      <th>138</th>\n",
       "      <td>ЯБЖ</td>\n",
       "      <td>K25.9</td>\n",
       "    </tr>\n",
       "    <tr>\n",
       "      <th>139</th>\n",
       "      <td>ЯБДК</td>\n",
       "      <td>K26</td>\n",
       "    </tr>\n",
       "    <tr>\n",
       "      <th>140</th>\n",
       "      <td>ЯБДК</td>\n",
       "      <td>K26.7</td>\n",
       "    </tr>\n",
       "    <tr>\n",
       "      <th>141</th>\n",
       "      <td>ЯБДК</td>\n",
       "      <td>K26.9</td>\n",
       "    </tr>\n",
       "  </tbody>\n",
       "</table>\n",
       "<p>142 rows × 2 columns</p>\n",
       "</div>"
      ],
      "text/plain": [
       "    Группа ДН kod_mkb_10\n",
       "0         СД2        E11\n",
       "1         СД2      E11.2\n",
       "2         СД2      E11.3\n",
       "3         СД2      E11.4\n",
       "4         СД2      E11.5\n",
       "..        ...        ...\n",
       "137       ЯБЖ      K25.7\n",
       "138       ЯБЖ      K25.9\n",
       "139      ЯБДК        K26\n",
       "140      ЯБДК      K26.7\n",
       "141      ЯБДК      K26.9\n",
       "\n",
       "[142 rows x 2 columns]"
      ]
     },
     "execution_count": 574,
     "metadata": {},
     "output_type": "execute_result"
    }
   ],
   "source": [
    "dictionary = pd.read_excel('/Users/denisvasilev/Documents/Тестовое/словарь.xlsx')\n",
    "dictionary "
   ]
  },
  {
   "cell_type": "code",
   "execution_count": 575,
   "metadata": {},
   "outputs": [
    {
     "data": {
      "text/plain": [
       "{'СД2': 'E11.9',\n",
       " 'ГХС': 'E78.2',\n",
       " 'АГ': 'I15.9',\n",
       " 'ОИМ': 'I25.8',\n",
       " 'ИБС': 'I25.9',\n",
       " 'МА': 'I48.9',\n",
       " 'ХСН': 'I50.9',\n",
       " 'ОНМК': 'G46.8',\n",
       " 'Последствия ОНМК': 'I69.8',\n",
       " 'ХОБЛ': 'J44.9',\n",
       " 'ЯБЖ': 'K25.9',\n",
       " 'ЯБДК': 'K26.9'}"
      ]
     },
     "execution_count": 575,
     "metadata": {},
     "output_type": "execute_result"
    }
   ],
   "source": [
    "#создание словаря\n",
    "# поменял местами в задание Ключ и Значение!!!!!\n",
    "# Ключ - Код МКБ-10, Значение - Группа ДН\n",
    "diagnosis_dict = dictionary.set_index('Группа ДН')['kod_mkb_10'].to_dict()\n",
    "diagnosis_dict"
   ]
  },
  {
   "cell_type": "code",
   "execution_count": 576,
   "metadata": {},
   "outputs": [
    {
     "data": {
      "text/plain": [
       "{'E11': 'СД2',\n",
       " 'E11.2': 'СД2',\n",
       " 'E11.3': 'СД2',\n",
       " 'E11.4': 'СД2',\n",
       " 'E11.5': 'СД2',\n",
       " 'E11.6': 'СД2',\n",
       " 'E11.7': 'СД2',\n",
       " 'E11.8': 'СД2',\n",
       " 'E11.9': 'СД2',\n",
       " 'E78': 'ГХС',\n",
       " 'E78.0': 'ГХС',\n",
       " 'E78.2': 'ГХС',\n",
       " 'I10': 'АГ',\n",
       " 'I11': 'АГ',\n",
       " 'I11.0': 'АГ',\n",
       " 'I11.9': 'АГ',\n",
       " 'I12': 'АГ',\n",
       " 'I12.0': 'АГ',\n",
       " 'I12.9': 'АГ',\n",
       " 'I13': 'АГ',\n",
       " 'I13.0': 'АГ',\n",
       " 'I13.1': 'АГ',\n",
       " 'I13.2': 'АГ',\n",
       " 'I13.9': 'АГ',\n",
       " 'I15': 'АГ',\n",
       " 'I15.0': 'АГ',\n",
       " 'I15.1': 'АГ',\n",
       " 'I15.2': 'АГ',\n",
       " 'I15.8': 'АГ',\n",
       " 'I15.9': 'АГ',\n",
       " 'I21': 'ОИМ',\n",
       " 'I21.0': 'ОИМ',\n",
       " 'I21.1': 'ОИМ',\n",
       " 'I21.2': 'ОИМ',\n",
       " 'I21.3': 'ОИМ',\n",
       " 'I21.4': 'ОИМ',\n",
       " 'I21.9': 'ОИМ',\n",
       " 'I22': 'ОИМ',\n",
       " 'I22.0': 'ОИМ',\n",
       " 'I22.1': 'ОИМ',\n",
       " 'I22.8': 'ОИМ',\n",
       " 'I22.9': 'ОИМ',\n",
       " 'I24': 'ОИМ',\n",
       " 'I24.0': 'ОИМ',\n",
       " 'I24.8': 'ОИМ',\n",
       " 'I24.9': 'ОИМ',\n",
       " 'I20.0': 'ОИМ',\n",
       " 'I25.8': 'ОИМ',\n",
       " 'I20.1': 'ИБС',\n",
       " 'I20.8': 'ИБС',\n",
       " 'I20.9': 'ИБС',\n",
       " 'I25.0': 'ИБС',\n",
       " 'I25.1': 'ИБС',\n",
       " 'I25.2': 'ИБС',\n",
       " 'I25.3': 'ИБС',\n",
       " 'I25.4': 'ИБС',\n",
       " 'I25.5': 'ИБС',\n",
       " 'I25.6': 'ИБС',\n",
       " 'I25.9': 'ИБС',\n",
       " 'I48': 'МА',\n",
       " 'I48.0': 'МА',\n",
       " 'I48.1': 'МА',\n",
       " 'I48.2': 'МА',\n",
       " 'I48.3': 'МА',\n",
       " 'I48.4': 'МА',\n",
       " 'I48.9': 'МА',\n",
       " 'I50': 'ХСН',\n",
       " 'I50.0': 'ХСН',\n",
       " 'I50.1': 'ХСН',\n",
       " 'I50.9': 'ХСН',\n",
       " 'I60': 'ОНМК',\n",
       " 'I60.0': 'ОНМК',\n",
       " 'I60.1': 'ОНМК',\n",
       " 'I60.2': 'ОНМК',\n",
       " 'I60.3': 'ОНМК',\n",
       " 'I60.4': 'ОНМК',\n",
       " 'I60.5': 'ОНМК',\n",
       " 'I60.6': 'ОНМК',\n",
       " 'I60.7': 'ОНМК',\n",
       " 'I60.8': 'ОНМК',\n",
       " 'I60.9': 'ОНМК',\n",
       " 'I61': 'ОНМК',\n",
       " 'I61.0': 'ОНМК',\n",
       " 'I61.1': 'ОНМК',\n",
       " 'I61.2': 'ОНМК',\n",
       " 'I61.3': 'ОНМК',\n",
       " 'I61.4': 'ОНМК',\n",
       " 'I61.5': 'ОНМК',\n",
       " 'I61.6': 'ОНМК',\n",
       " 'I61.8': 'ОНМК',\n",
       " 'I61.9': 'ОНМК',\n",
       " 'I62': 'ОНМК',\n",
       " 'I62.0': 'ОНМК',\n",
       " 'I62.1': 'ОНМК',\n",
       " 'I62.9': 'ОНМК',\n",
       " 'I63': 'ОНМК',\n",
       " 'I63.0': 'ОНМК',\n",
       " 'I63.1': 'ОНМК',\n",
       " 'I63.2': 'ОНМК',\n",
       " 'I63.3': 'ОНМК',\n",
       " 'I63.4': 'ОНМК',\n",
       " 'I63.5': 'ОНМК',\n",
       " 'I63.6': 'ОНМК',\n",
       " 'I63.8': 'ОНМК',\n",
       " 'I63.9': 'ОНМК',\n",
       " 'I64': 'ОНМК',\n",
       " 'G45': 'ОНМК',\n",
       " 'G45.0': 'ОНМК',\n",
       " 'G45.1': 'ОНМК',\n",
       " 'G45.2': 'ОНМК',\n",
       " 'G45.3': 'ОНМК',\n",
       " 'G45.4': 'ОНМК',\n",
       " 'G45.8': 'ОНМК',\n",
       " 'G45.9': 'ОНМК',\n",
       " 'G46': 'ОНМК',\n",
       " 'G46.0': 'ОНМК',\n",
       " 'G46.1': 'ОНМК',\n",
       " 'G46.2': 'ОНМК',\n",
       " 'G46.3': 'ОНМК',\n",
       " 'G46.4': 'ОНМК',\n",
       " 'G46.5': 'ОНМК',\n",
       " 'G46.6': 'ОНМК',\n",
       " 'G46.7': 'ОНМК',\n",
       " 'G46.8': 'ОНМК',\n",
       " 'I69': 'Последствия ОНМК',\n",
       " 'I69.0': 'Последствия ОНМК',\n",
       " 'I69.1': 'Последствия ОНМК',\n",
       " 'I69.2': 'Последствия ОНМК',\n",
       " 'I69.3': 'Последствия ОНМК',\n",
       " 'I69.4': 'Последствия ОНМК',\n",
       " 'I69.8': 'Последствия ОНМК',\n",
       " 'J44': 'ХОБЛ',\n",
       " 'J44.0': 'ХОБЛ',\n",
       " 'J44.1': 'ХОБЛ',\n",
       " 'J44.8': 'ХОБЛ',\n",
       " 'J44.9': 'ХОБЛ',\n",
       " 'K25': 'ЯБЖ',\n",
       " 'K25.7': 'ЯБЖ',\n",
       " 'K25.9': 'ЯБЖ',\n",
       " 'K26': 'ЯБДК',\n",
       " 'K26.7': 'ЯБДК',\n",
       " 'K26.9': 'ЯБДК'}"
      ]
     },
     "execution_count": 576,
     "metadata": {},
     "output_type": "execute_result"
    }
   ],
   "source": [
    "diagnosis_dict = dictionary.set_index('kod_mkb_10')['Группа ДН'].to_dict()\n",
    "diagnosis_dict"
   ]
  },
  {
   "cell_type": "code",
   "execution_count": 577,
   "metadata": {},
   "outputs": [],
   "source": [
    "#категоризация диагнозов присвоим новой колонке dn соответствующее значение из словаря"
   ]
  },
  {
   "cell_type": "code",
   "execution_count": 578,
   "metadata": {},
   "outputs": [
    {
     "data": {
      "text/plain": [
       "0    I11.0\n",
       "1    I11.0\n",
       "2    I11.9\n",
       "3    I11.9\n",
       "4    I25.1\n",
       "4    I11.9\n",
       "5    I11.9\n",
       "6    E11.9\n",
       "6    I11.9\n",
       "7    I25.1\n",
       "Name: Код мкб-10, dtype: object"
      ]
     },
     "execution_count": 578,
     "metadata": {},
     "output_type": "execute_result"
    }
   ],
   "source": [
    "# разделим значение код мкб-10 у пациентов, у которых несколько диагнозов\n",
    "codes = visits['Код мкб-10'].str.split(';').explode()\n",
    "codes"
   ]
  },
  {
   "cell_type": "code",
   "execution_count": 579,
   "metadata": {},
   "outputs": [
    {
     "data": {
      "text/plain": [
       "0     АГ\n",
       "1     АГ\n",
       "2     АГ\n",
       "3     АГ\n",
       "4    ИБС\n",
       "4     АГ\n",
       "5     АГ\n",
       "6    СД2\n",
       "6     АГ\n",
       "7    ИБС\n",
       "Name: Код мкб-10, dtype: object"
      ]
     },
     "execution_count": 579,
     "metadata": {},
     "output_type": "execute_result"
    }
   ],
   "source": [
    "#категоризируем из словаря \n",
    "codes = codes.map(diagnosis_dict)\n",
    "codes"
   ]
  },
  {
   "cell_type": "code",
   "execution_count": 580,
   "metadata": {},
   "outputs": [
    {
     "data": {
      "text/plain": [
       "0        АГ\n",
       "1        АГ\n",
       "2        АГ\n",
       "3        АГ\n",
       "4    ИБС;АГ\n",
       "5        АГ\n",
       "6    СД2;АГ\n",
       "7       ИБС\n",
       "Name: Код мкб-10, dtype: object"
      ]
     },
     "execution_count": 580,
     "metadata": {},
     "output_type": "execute_result"
    }
   ],
   "source": [
    "#соединим обратно категории по индексу\n",
    "codes = codes.groupby(level=0).agg(';'.join)\n",
    "codes"
   ]
  },
  {
   "cell_type": "code",
   "execution_count": 581,
   "metadata": {},
   "outputs": [],
   "source": [
    "#переименовываем колонку на dn\n",
    "codes.name = 'dn'"
   ]
  },
  {
   "cell_type": "code",
   "execution_count": 582,
   "metadata": {},
   "outputs": [],
   "source": [
    "#добавим категории в таблицу посетителей\n",
    "visits = pd.concat([visits, codes], axis = 1)"
   ]
  },
  {
   "cell_type": "code",
   "execution_count": 583,
   "metadata": {},
   "outputs": [
    {
     "data": {
      "text/html": [
       "<div>\n",
       "<style scoped>\n",
       "    .dataframe tbody tr th:only-of-type {\n",
       "        vertical-align: middle;\n",
       "    }\n",
       "\n",
       "    .dataframe tbody tr th {\n",
       "        vertical-align: top;\n",
       "    }\n",
       "\n",
       "    .dataframe thead th {\n",
       "        text-align: right;\n",
       "    }\n",
       "</style>\n",
       "<table border=\"1\" class=\"dataframe\">\n",
       "  <thead>\n",
       "    <tr style=\"text-align: right;\">\n",
       "      <th></th>\n",
       "      <th>ИД пациента</th>\n",
       "      <th>Дата диспансерного приема</th>\n",
       "      <th>Код мкб-10</th>\n",
       "      <th>Список пройденных исследований</th>\n",
       "      <th>Список дат пройденных исследований</th>\n",
       "      <th>dn</th>\n",
       "    </tr>\n",
       "  </thead>\n",
       "  <tbody>\n",
       "    <tr>\n",
       "      <th>0</th>\n",
       "      <td>123</td>\n",
       "      <td>2023-11-09</td>\n",
       "      <td>I11.0</td>\n",
       "      <td>ESLI.LI.C.1.21 - Исследование микроальбумина в...</td>\n",
       "      <td>2023-08-03; 2023-08-04; 2023-08-03; 2023-08-01...</td>\n",
       "      <td>АГ</td>\n",
       "    </tr>\n",
       "    <tr>\n",
       "      <th>1</th>\n",
       "      <td>1234</td>\n",
       "      <td>2023-11-27</td>\n",
       "      <td>I11.0</td>\n",
       "      <td>ESLI.LI.C.1.21 - Исследование микроальбумина в...</td>\n",
       "      <td>2023-08-03; 2023-08-04; 2023-08-03</td>\n",
       "      <td>АГ</td>\n",
       "    </tr>\n",
       "    <tr>\n",
       "      <th>2</th>\n",
       "      <td>12345</td>\n",
       "      <td>2023-11-25</td>\n",
       "      <td>I11.9</td>\n",
       "      <td>243 - Эхокардиография; 12 - ЭКГ</td>\n",
       "      <td>2023-11-13; 2023-08-30</td>\n",
       "      <td>АГ</td>\n",
       "    </tr>\n",
       "    <tr>\n",
       "      <th>3</th>\n",
       "      <td>12</td>\n",
       "      <td>2023-11-01</td>\n",
       "      <td>I11.9</td>\n",
       "      <td>ESLI.LI.C.1.21 - Исследование микроальбумина в...</td>\n",
       "      <td>2023-10-26; 2023-10-02; 2023-10-02; 2023-10-02...</td>\n",
       "      <td>АГ</td>\n",
       "    </tr>\n",
       "    <tr>\n",
       "      <th>4</th>\n",
       "      <td>1</td>\n",
       "      <td>2023-11-13</td>\n",
       "      <td>I25.1;I11.9</td>\n",
       "      <td>25 - Кардиология; ESLI.LI.C.2.2 - Общий клинич...</td>\n",
       "      <td>2023-10-21; 2023-10-04; 2023-10-03; 2023-10-03...</td>\n",
       "      <td>ИБС;АГ</td>\n",
       "    </tr>\n",
       "    <tr>\n",
       "      <th>5</th>\n",
       "      <td>5654</td>\n",
       "      <td>2023-11-29</td>\n",
       "      <td>I11.9</td>\n",
       "      <td>ESLI.LI.C.1.16 - Липидный профиль (комплекс); ...</td>\n",
       "      <td>2023-10-28; 2023-10-28; 2023-10-28; 2023-10-27...</td>\n",
       "      <td>АГ</td>\n",
       "    </tr>\n",
       "    <tr>\n",
       "      <th>6</th>\n",
       "      <td>9</td>\n",
       "      <td>2023-11-30</td>\n",
       "      <td>E11.9;I11.9</td>\n",
       "      <td>ESLI.LI.1.19.1 - Определение гемоглобина А1с (...</td>\n",
       "      <td>2023-11-17; 2023-05-02; 2023-04-28; 2023-04-28...</td>\n",
       "      <td>СД2;АГ</td>\n",
       "    </tr>\n",
       "    <tr>\n",
       "      <th>7</th>\n",
       "      <td>456</td>\n",
       "      <td>2023-11-23</td>\n",
       "      <td>I25.1</td>\n",
       "      <td>ESLI.LI.1.8.3 - Определение креатинина; ESLI.L...</td>\n",
       "      <td>2023-11-23; 2023-11-23; 2023-11-23; 2023-11-23...</td>\n",
       "      <td>ИБС</td>\n",
       "    </tr>\n",
       "  </tbody>\n",
       "</table>\n",
       "</div>"
      ],
      "text/plain": [
       "   ИД пациента Дата диспансерного приема   Код мкб-10  \\\n",
       "0          123                2023-11-09        I11.0   \n",
       "1         1234                2023-11-27        I11.0   \n",
       "2        12345                2023-11-25        I11.9   \n",
       "3           12                2023-11-01        I11.9   \n",
       "4            1                2023-11-13  I25.1;I11.9   \n",
       "5         5654                2023-11-29        I11.9   \n",
       "6            9                2023-11-30  E11.9;I11.9   \n",
       "7          456                2023-11-23        I25.1   \n",
       "\n",
       "                      Список пройденных исследований  \\\n",
       "0  ESLI.LI.C.1.21 - Исследование микроальбумина в...   \n",
       "1  ESLI.LI.C.1.21 - Исследование микроальбумина в...   \n",
       "2                    243 - Эхокардиография; 12 - ЭКГ   \n",
       "3  ESLI.LI.C.1.21 - Исследование микроальбумина в...   \n",
       "4  25 - Кардиология; ESLI.LI.C.2.2 - Общий клинич...   \n",
       "5  ESLI.LI.C.1.16 - Липидный профиль (комплекс); ...   \n",
       "6  ESLI.LI.1.19.1 - Определение гемоглобина А1с (...   \n",
       "7  ESLI.LI.1.8.3 - Определение креатинина; ESLI.L...   \n",
       "\n",
       "                  Список дат пройденных исследований      dn  \n",
       "0  2023-08-03; 2023-08-04; 2023-08-03; 2023-08-01...      АГ  \n",
       "1                 2023-08-03; 2023-08-04; 2023-08-03      АГ  \n",
       "2                             2023-11-13; 2023-08-30      АГ  \n",
       "3  2023-10-26; 2023-10-02; 2023-10-02; 2023-10-02...      АГ  \n",
       "4  2023-10-21; 2023-10-04; 2023-10-03; 2023-10-03...  ИБС;АГ  \n",
       "5  2023-10-28; 2023-10-28; 2023-10-28; 2023-10-27...      АГ  \n",
       "6  2023-11-17; 2023-05-02; 2023-04-28; 2023-04-28...  СД2;АГ  \n",
       "7  2023-11-23; 2023-11-23; 2023-11-23; 2023-11-23...     ИБС  "
      ]
     },
     "execution_count": 583,
     "metadata": {},
     "output_type": "execute_result"
    }
   ],
   "source": [
    "visits"
   ]
  }
 ],
 "metadata": {
  "kernelspec": {
   "display_name": "Python 3 (ipykernel)",
   "language": "python",
   "name": "python3"
  },
  "language_info": {
   "codemirror_mode": {
    "name": "ipython",
    "version": 3
   },
   "file_extension": ".py",
   "mimetype": "text/x-python",
   "name": "python",
   "nbconvert_exporter": "python",
   "pygments_lexer": "ipython3",
   "version": "3.9.7"
  }
 },
 "nbformat": 4,
 "nbformat_minor": 2
}
