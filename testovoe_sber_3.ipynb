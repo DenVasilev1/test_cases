{
 "cells": [
  {
   "cell_type": "code",
   "execution_count": 213,
   "id": "c34f8dd6",
   "metadata": {},
   "outputs": [],
   "source": [
    "#1 импортируем библиотеки\n",
    "import pandas as pd               #библиотека для считывания файлов с данными\n",
    "import numpy as np                  #библиотека для оругления значений?\n",
    "import matplotlib.pyplot as plt     #библиотека для графиков\n",
    "from scipy import stats        #библиотека для проверки гипотез"
   ]
  },
  {
   "cell_type": "markdown",
   "id": "a967007b",
   "metadata": {},
   "source": [
    "# Предобработка данных"
   ]
  },
  {
   "cell_type": "code",
   "execution_count": 214,
   "id": "75e7071f",
   "metadata": {},
   "outputs": [
    {
     "data": {
      "text/html": [
       "<div>\n",
       "<style scoped>\n",
       "    .dataframe tbody tr th:only-of-type {\n",
       "        vertical-align: middle;\n",
       "    }\n",
       "\n",
       "    .dataframe tbody tr th {\n",
       "        vertical-align: top;\n",
       "    }\n",
       "\n",
       "    .dataframe thead th {\n",
       "        text-align: right;\n",
       "    }\n",
       "</style>\n",
       "<table border=\"1\" class=\"dataframe\">\n",
       "  <thead>\n",
       "    <tr style=\"text-align: right;\">\n",
       "      <th></th>\n",
       "      <th>datetime</th>\n",
       "      <th>promo</th>\n",
       "      <th>control_group_flg</th>\n",
       "      <th>customer_id</th>\n",
       "      <th>transaction_id</th>\n",
       "      <th>transaction_amt</th>\n",
       "      <th>monetary_amt</th>\n",
       "      <th>bonus_turn_amt</th>\n",
       "    </tr>\n",
       "  </thead>\n",
       "  <tbody>\n",
       "    <tr>\n",
       "      <th>0</th>\n",
       "      <td>2020-01-02 17:10:09</td>\n",
       "      <td>Целевая 6% на Отток</td>\n",
       "      <td>False</td>\n",
       "      <td>212933236</td>\n",
       "      <td>106989004416</td>\n",
       "      <td>351.726307</td>\n",
       "      <td>176.569431</td>\n",
       "      <td>5.297083</td>\n",
       "    </tr>\n",
       "    <tr>\n",
       "      <th>1</th>\n",
       "      <td>2019-12-17 12:01:25</td>\n",
       "      <td>Контрольная 7% на Новых</td>\n",
       "      <td>True</td>\n",
       "      <td>247135596</td>\n",
       "      <td>105374806841</td>\n",
       "      <td>62.011184</td>\n",
       "      <td>62.011184</td>\n",
       "      <td>1.864573</td>\n",
       "    </tr>\n",
       "    <tr>\n",
       "      <th>2</th>\n",
       "      <td>2019-12-05 11:39:49</td>\n",
       "      <td>Целевая 6% на Отток</td>\n",
       "      <td>False</td>\n",
       "      <td>234967813</td>\n",
       "      <td>104137018370</td>\n",
       "      <td>163.856432</td>\n",
       "      <td>163.856432</td>\n",
       "      <td>9.831386</td>\n",
       "    </tr>\n",
       "    <tr>\n",
       "      <th>3</th>\n",
       "      <td>2019-12-09 16:41:33</td>\n",
       "      <td>Целевая 7% на Новых</td>\n",
       "      <td>False</td>\n",
       "      <td>213648274</td>\n",
       "      <td>104577635297</td>\n",
       "      <td>2402.756823</td>\n",
       "      <td>2402.756823</td>\n",
       "      <td>168.192978</td>\n",
       "    </tr>\n",
       "    <tr>\n",
       "      <th>4</th>\n",
       "      <td>2019-12-11 19:40:24</td>\n",
       "      <td>Целевая 7% на Новых</td>\n",
       "      <td>False</td>\n",
       "      <td>235025194</td>\n",
       "      <td>104807687619</td>\n",
       "      <td>266.972980</td>\n",
       "      <td>134.192768</td>\n",
       "      <td>9.393494</td>\n",
       "    </tr>\n",
       "  </tbody>\n",
       "</table>\n",
       "</div>"
      ],
      "text/plain": [
       "             datetime                    promo  control_group_flg  \\\n",
       "0 2020-01-02 17:10:09      Целевая 6% на Отток              False   \n",
       "1 2019-12-17 12:01:25  Контрольная 7% на Новых               True   \n",
       "2 2019-12-05 11:39:49      Целевая 6% на Отток              False   \n",
       "3 2019-12-09 16:41:33      Целевая 7% на Новых              False   \n",
       "4 2019-12-11 19:40:24      Целевая 7% на Новых              False   \n",
       "\n",
       "   customer_id  transaction_id  transaction_amt  monetary_amt  bonus_turn_amt  \n",
       "0    212933236    106989004416       351.726307    176.569431        5.297083  \n",
       "1    247135596    105374806841        62.011184     62.011184        1.864573  \n",
       "2    234967813    104137018370       163.856432    163.856432        9.831386  \n",
       "3    213648274    104577635297      2402.756823   2402.756823      168.192978  \n",
       "4    235025194    104807687619       266.972980    134.192768        9.393494  "
      ]
     },
     "execution_count": 214,
     "metadata": {},
     "output_type": "execute_result"
    }
   ],
   "source": [
    "file_path = pd.read_excel('C:/Users/Ounly mini/Desktop/новая работа/тестовое СберСпасибо/hw_1_dataset.xlsx')\n",
    "file_path.head()"
   ]
  },
  {
   "cell_type": "code",
   "execution_count": 215,
   "id": "eaf8cfcb",
   "metadata": {},
   "outputs": [
    {
     "name": "stdout",
     "output_type": "stream",
     "text": [
      "<class 'pandas.core.frame.DataFrame'>\n",
      "RangeIndex: 23134 entries, 0 to 23133\n",
      "Data columns (total 8 columns):\n",
      " #   Column             Non-Null Count  Dtype         \n",
      "---  ------             --------------  -----         \n",
      " 0   datetime           23134 non-null  datetime64[ns]\n",
      " 1   promo              23134 non-null  object        \n",
      " 2   control_group_flg  23134 non-null  bool          \n",
      " 3   customer_id        23134 non-null  int64         \n",
      " 4   transaction_id     23134 non-null  int64         \n",
      " 5   transaction_amt    23134 non-null  float64       \n",
      " 6   monetary_amt       23134 non-null  float64       \n",
      " 7   bonus_turn_amt     23134 non-null  float64       \n",
      "dtypes: bool(1), datetime64[ns](1), float64(3), int64(2), object(1)\n",
      "memory usage: 1.3+ MB\n"
     ]
    }
   ],
   "source": [
    "#выведем иформацию по имеющимся данным\n",
    "file_path.info()"
   ]
  },
  {
   "cell_type": "code",
   "execution_count": 216,
   "id": "0f94683b",
   "metadata": {},
   "outputs": [
    {
     "name": "stdout",
     "output_type": "stream",
     "text": [
      "datetime             0\n",
      "promo                0\n",
      "control_group_flg    0\n",
      "customer_id          0\n",
      "transaction_id       0\n",
      "transaction_amt      0\n",
      "monetary_amt         0\n",
      "bonus_turn_amt       0\n",
      "dtype: int64\n"
     ]
    }
   ],
   "source": [
    "#проверим наличие пропусков данных\n",
    "print(file_path.isna().sum())"
   ]
  },
  {
   "cell_type": "code",
   "execution_count": 217,
   "id": "4716132f",
   "metadata": {},
   "outputs": [
    {
     "name": "stdout",
     "output_type": "stream",
     "text": [
      "дубликатов = 0\n"
     ]
    }
   ],
   "source": [
    "#наличие явных дубликатов\n",
    "print('дубликатов =', file_path.duplicated().sum())"
   ]
  },
  {
   "cell_type": "code",
   "execution_count": 218,
   "id": "cb21bf4e",
   "metadata": {},
   "outputs": [
    {
     "data": {
      "text/plain": [
       "datetime             9\n",
       "promo                9\n",
       "control_group_flg    9\n",
       "customer_id          9\n",
       "transaction_id       9\n",
       "transaction_amt      9\n",
       "monetary_amt         9\n",
       "bonus_turn_amt       9\n",
       "dtype: int64"
      ]
     },
     "execution_count": 218,
     "metadata": {},
     "output_type": "execute_result"
    }
   ],
   "source": [
    "#проверим наличие нулевых транзакций\n",
    "file_path.query('monetary_amt < 0.1').count()"
   ]
  },
  {
   "cell_type": "markdown",
   "id": "6268ee6e",
   "metadata": {},
   "source": [
    "у 9 пользователей транзакции на нулевую сумму. Удалим этих пользователей"
   ]
  },
  {
   "cell_type": "code",
   "execution_count": 219,
   "id": "f79b2be4",
   "metadata": {},
   "outputs": [],
   "source": [
    "#перезапишем таблицу удалив пользователей с нулевыми суммами транзакции\n",
    "file_path = file_path.query('monetary_amt > 0')"
   ]
  },
  {
   "cell_type": "markdown",
   "id": "360983f7",
   "metadata": {},
   "source": [
    "Соотношение колчества целевой и контрольной групп"
   ]
  },
  {
   "cell_type": "code",
   "execution_count": 220,
   "id": "42d63efb",
   "metadata": {},
   "outputs": [
    {
     "data": {
      "image/png": "[encoded data removed]",
      "text/plain": [
       "<Figure size 432x288 with 1 Axes>"
      ]
     },
     "metadata": {},
     "output_type": "display_data"
    },
    {
     "name": "stdout",
     "output_type": "stream",
     "text": [
      "Целевая 7% на Новых        16295\n",
      "Целевая 6% на Отток         4622\n",
      "Контрольная 7% на Новых     1775\n",
      "Контрольная 6% на Отток      433\n",
      "Name: promo, dtype: int64\n"
     ]
    }
   ],
   "source": [
    "(file_path['promo']\n",
    "    .value_counts(ascending=True)\n",
    "    .plot(kind='pie', grid=True, title='категории пользователей', autopct='%1.1f%%'))\n",
    "\n",
    "plt.show()\n",
    "print(file_path['promo'].value_counts())"
   ]
  },
  {
   "cell_type": "code",
   "execution_count": 221,
   "id": "783615c5",
   "metadata": {},
   "outputs": [
    {
     "data": {
      "text/html": [
       "<div>\n",
       "<style scoped>\n",
       "    .dataframe tbody tr th:only-of-type {\n",
       "        vertical-align: middle;\n",
       "    }\n",
       "\n",
       "    .dataframe tbody tr th {\n",
       "        vertical-align: top;\n",
       "    }\n",
       "\n",
       "    .dataframe thead tr th {\n",
       "        text-align: left;\n",
       "    }\n",
       "\n",
       "    .dataframe thead tr:last-of-type th {\n",
       "        text-align: right;\n",
       "    }\n",
       "</style>\n",
       "<table border=\"1\" class=\"dataframe\">\n",
       "  <thead>\n",
       "    <tr>\n",
       "      <th></th>\n",
       "      <th>count</th>\n",
       "    </tr>\n",
       "    <tr>\n",
       "      <th></th>\n",
       "      <th>customer_id</th>\n",
       "    </tr>\n",
       "    <tr>\n",
       "      <th>promo</th>\n",
       "      <th></th>\n",
       "    </tr>\n",
       "  </thead>\n",
       "  <tbody>\n",
       "    <tr>\n",
       "      <th>Контрольная 6% на Отток</th>\n",
       "      <td>433</td>\n",
       "    </tr>\n",
       "    <tr>\n",
       "      <th>Контрольная 7% на Новых</th>\n",
       "      <td>1775</td>\n",
       "    </tr>\n",
       "    <tr>\n",
       "      <th>Целевая 6% на Отток</th>\n",
       "      <td>4622</td>\n",
       "    </tr>\n",
       "    <tr>\n",
       "      <th>Целевая 7% на Новых</th>\n",
       "      <td>16295</td>\n",
       "    </tr>\n",
       "  </tbody>\n",
       "</table>\n",
       "</div>"
      ],
      "text/plain": [
       "                              count\n",
       "                        customer_id\n",
       "promo                              \n",
       "Контрольная 6% на Отток         433\n",
       "Контрольная 7% на Новых        1775\n",
       "Целевая 6% на Отток            4622\n",
       "Целевая 7% на Новых           16295"
      ]
     },
     "execution_count": 221,
     "metadata": {},
     "output_type": "execute_result"
    }
   ],
   "source": [
    "cnt_cust = file_path.pivot_table(index=['promo'], values='customer_id', aggfunc=['count'])\n",
    "cnt_cust"
   ]
  },
  {
   "cell_type": "code",
   "execution_count": 222,
   "id": "cb616672",
   "metadata": {},
   "outputs": [
    {
     "name": "stdout",
     "output_type": "stream",
     "text": [
      "Количество уникальных пользователей = 18739\n"
     ]
    },
    {
     "data": {
      "text/html": [
       "<div>\n",
       "<style scoped>\n",
       "    .dataframe tbody tr th:only-of-type {\n",
       "        vertical-align: middle;\n",
       "    }\n",
       "\n",
       "    .dataframe tbody tr th {\n",
       "        vertical-align: top;\n",
       "    }\n",
       "\n",
       "    .dataframe thead th {\n",
       "        text-align: right;\n",
       "    }\n",
       "</style>\n",
       "<table border=\"1\" class=\"dataframe\">\n",
       "  <thead>\n",
       "    <tr style=\"text-align: right;\">\n",
       "      <th></th>\n",
       "      <th>customer_id</th>\n",
       "    </tr>\n",
       "    <tr>\n",
       "      <th>promo</th>\n",
       "      <th></th>\n",
       "    </tr>\n",
       "  </thead>\n",
       "  <tbody>\n",
       "    <tr>\n",
       "      <th>Контрольная 6% на Отток</th>\n",
       "      <td>342</td>\n",
       "    </tr>\n",
       "    <tr>\n",
       "      <th>Контрольная 7% на Новых</th>\n",
       "      <td>1474</td>\n",
       "    </tr>\n",
       "    <tr>\n",
       "      <th>Целевая 6% на Отток</th>\n",
       "      <td>3545</td>\n",
       "    </tr>\n",
       "    <tr>\n",
       "      <th>Целевая 7% на Новых</th>\n",
       "      <td>13378</td>\n",
       "    </tr>\n",
       "  </tbody>\n",
       "</table>\n",
       "</div>"
      ],
      "text/plain": [
       "                         customer_id\n",
       "promo                               \n",
       "Контрольная 6% на Отток          342\n",
       "Контрольная 7% на Новых         1474\n",
       "Целевая 6% на Отток             3545\n",
       "Целевая 7% на Новых            13378"
      ]
     },
     "execution_count": 222,
     "metadata": {},
     "output_type": "execute_result"
    }
   ],
   "source": [
    "cnt_cust = file_path.groupby(by='promo').agg({'customer_id':'nunique'})\n",
    "print('Количество уникальных пользователей =', file_path['customer_id'].nunique())\n",
    "cnt_cust"
   ]
  },
  {
   "cell_type": "markdown",
   "id": "ba61f7ca",
   "metadata": {},
   "source": [
    "Учтем что контрольная группа в 10 раз меньше целевой"
   ]
  },
  {
   "cell_type": "markdown",
   "id": "242d85e5",
   "metadata": {},
   "source": [
    "посчитаем колличество заказов каждого пользователя"
   ]
  },
  {
   "cell_type": "code",
   "execution_count": 223,
   "id": "82e0e830",
   "metadata": {},
   "outputs": [
    {
     "data": {
      "image/png": "[encoded data removed]",
      "text/plain": [
       "<Figure size 432x288 with 1 Axes>"
      ]
     },
     "metadata": {
      "needs_background": "light"
     },
     "output_type": "display_data"
    },
    {
     "data": {
      "text/plain": [
       "count    2.312500e+04\n",
       "mean     1.055182e+11\n",
       "std      9.351908e+08\n",
       "min      1.038795e+11\n",
       "25%      1.047570e+11\n",
       "50%      1.054848e+11\n",
       "75%      1.063006e+11\n",
       "max      1.070389e+11\n",
       "Name: transaction_id, dtype: float64"
      ]
     },
     "execution_count": 223,
     "metadata": {},
     "output_type": "execute_result"
    }
   ],
   "source": [
    "cnt_1['transaction_id'].plot(kind='hist', bins=30, title='кол-во заказов по пользователям', grid=True)\n",
    "plt.xlabel(\"кол-во заказов\")\n",
    "plt.ylabel(\"кол-во пользователей\")\n",
    "plt.show()\n",
    "file_path['transaction_id'].describe()"
   ]
  },
  {
   "cell_type": "code",
   "execution_count": 224,
   "id": "e8a543a9",
   "metadata": {},
   "outputs": [
    {
     "data": {
      "text/plain": [
       "1     15465\n",
       "2      2493\n",
       "3       563\n",
       "4       150\n",
       "5        46\n",
       "6        15\n",
       "7         5\n",
       "9         1\n",
       "21        1\n",
       "Name: transaction_id, dtype: int64"
      ]
     },
     "execution_count": 224,
     "metadata": {},
     "output_type": "execute_result"
    }
   ],
   "source": [
    "#кол-во заказов по пользователям\n",
    "cnt_1['transaction_id'].value_counts()"
   ]
  },
  {
   "cell_type": "code",
   "execution_count": 225,
   "id": "8e87ba79",
   "metadata": {},
   "outputs": [
    {
     "data": {
      "text/html": [
       "<div>\n",
       "<style scoped>\n",
       "    .dataframe tbody tr th:only-of-type {\n",
       "        vertical-align: middle;\n",
       "    }\n",
       "\n",
       "    .dataframe tbody tr th {\n",
       "        vertical-align: top;\n",
       "    }\n",
       "\n",
       "    .dataframe thead th {\n",
       "        text-align: right;\n",
       "    }\n",
       "</style>\n",
       "<table border=\"1\" class=\"dataframe\">\n",
       "  <thead>\n",
       "    <tr style=\"text-align: right;\">\n",
       "      <th></th>\n",
       "      <th>transaction_id</th>\n",
       "    </tr>\n",
       "    <tr>\n",
       "      <th>customer_id</th>\n",
       "      <th></th>\n",
       "    </tr>\n",
       "  </thead>\n",
       "  <tbody>\n",
       "    <tr>\n",
       "      <th>213660752</th>\n",
       "      <td>7</td>\n",
       "    </tr>\n",
       "    <tr>\n",
       "      <th>213076082</th>\n",
       "      <td>7</td>\n",
       "    </tr>\n",
       "    <tr>\n",
       "      <th>202970065</th>\n",
       "      <td>7</td>\n",
       "    </tr>\n",
       "    <tr>\n",
       "      <th>202436671</th>\n",
       "      <td>9</td>\n",
       "    </tr>\n",
       "    <tr>\n",
       "      <th>219774563</th>\n",
       "      <td>21</td>\n",
       "    </tr>\n",
       "  </tbody>\n",
       "</table>\n",
       "</div>"
      ],
      "text/plain": [
       "             transaction_id\n",
       "customer_id                \n",
       "213660752                 7\n",
       "213076082                 7\n",
       "202970065                 7\n",
       "202436671                 9\n",
       "219774563                21"
      ]
     },
     "execution_count": 225,
     "metadata": {},
     "output_type": "execute_result"
    }
   ],
   "source": [
    "#id пользователей по заказам\n",
    "cnt_1 = file_path.groupby(by='customer_id').agg({'transaction_id':'count'}).sort_values(by='transaction_id')\n",
    "cnt_1.tail()"
   ]
  },
  {
   "cell_type": "markdown",
   "id": "2284c6c9",
   "metadata": {},
   "source": [
    "большинство пользователей сделали по 1 заказу. Есть выбросы 1 пользователь сделал 21 заказ."
   ]
  },
  {
   "cell_type": "code",
   "execution_count": 226,
   "id": "168cac86",
   "metadata": {},
   "outputs": [
    {
     "data": {
      "text/html": [
       "<div>\n",
       "<style scoped>\n",
       "    .dataframe tbody tr th:only-of-type {\n",
       "        vertical-align: middle;\n",
       "    }\n",
       "\n",
       "    .dataframe tbody tr th {\n",
       "        vertical-align: top;\n",
       "    }\n",
       "\n",
       "    .dataframe thead th {\n",
       "        text-align: right;\n",
       "    }\n",
       "</style>\n",
       "<table border=\"1\" class=\"dataframe\">\n",
       "  <thead>\n",
       "    <tr style=\"text-align: right;\">\n",
       "      <th></th>\n",
       "      <th>datetime</th>\n",
       "      <th>promo</th>\n",
       "      <th>control_group_flg</th>\n",
       "      <th>customer_id</th>\n",
       "      <th>transaction_id</th>\n",
       "      <th>transaction_amt</th>\n",
       "      <th>monetary_amt</th>\n",
       "      <th>bonus_turn_amt</th>\n",
       "    </tr>\n",
       "  </thead>\n",
       "  <tbody>\n",
       "    <tr>\n",
       "      <th>10408</th>\n",
       "      <td>2019-12-24 20:23:28</td>\n",
       "      <td>Целевая 6% на Отток</td>\n",
       "      <td>False</td>\n",
       "      <td>219774563</td>\n",
       "      <td>106148439233</td>\n",
       "      <td>107.354214</td>\n",
       "      <td>53.677107</td>\n",
       "      <td>1.610313</td>\n",
       "    </tr>\n",
       "    <tr>\n",
       "      <th>12574</th>\n",
       "      <td>2019-12-16 18:30:50</td>\n",
       "      <td>Целевая 6% на Отток</td>\n",
       "      <td>False</td>\n",
       "      <td>219774563</td>\n",
       "      <td>105298365840</td>\n",
       "      <td>107.354214</td>\n",
       "      <td>53.677107</td>\n",
       "      <td>1.610313</td>\n",
       "    </tr>\n",
       "    <tr>\n",
       "      <th>12575</th>\n",
       "      <td>2019-12-10 14:23:40</td>\n",
       "      <td>Целевая 6% на Отток</td>\n",
       "      <td>False</td>\n",
       "      <td>219774563</td>\n",
       "      <td>104690209224</td>\n",
       "      <td>107.354214</td>\n",
       "      <td>53.677107</td>\n",
       "      <td>1.610313</td>\n",
       "    </tr>\n",
       "    <tr>\n",
       "      <th>13695</th>\n",
       "      <td>2019-12-20 19:54:57</td>\n",
       "      <td>Целевая 6% на Отток</td>\n",
       "      <td>False</td>\n",
       "      <td>219774563</td>\n",
       "      <td>105717942750</td>\n",
       "      <td>107.354214</td>\n",
       "      <td>53.677107</td>\n",
       "      <td>1.610313</td>\n",
       "    </tr>\n",
       "    <tr>\n",
       "      <th>14732</th>\n",
       "      <td>2019-12-23 16:04:00</td>\n",
       "      <td>Целевая 6% на Отток</td>\n",
       "      <td>False</td>\n",
       "      <td>219774563</td>\n",
       "      <td>106014392149</td>\n",
       "      <td>107.354214</td>\n",
       "      <td>53.677107</td>\n",
       "      <td>1.610313</td>\n",
       "    </tr>\n",
       "  </tbody>\n",
       "</table>\n",
       "</div>"
      ],
      "text/plain": [
       "                 datetime                promo  control_group_flg  \\\n",
       "10408 2019-12-24 20:23:28  Целевая 6% на Отток              False   \n",
       "12574 2019-12-16 18:30:50  Целевая 6% на Отток              False   \n",
       "12575 2019-12-10 14:23:40  Целевая 6% на Отток              False   \n",
       "13695 2019-12-20 19:54:57  Целевая 6% на Отток              False   \n",
       "14732 2019-12-23 16:04:00  Целевая 6% на Отток              False   \n",
       "\n",
       "       customer_id  transaction_id  transaction_amt  monetary_amt  \\\n",
       "10408    219774563    106148439233       107.354214     53.677107   \n",
       "12574    219774563    105298365840       107.354214     53.677107   \n",
       "12575    219774563    104690209224       107.354214     53.677107   \n",
       "13695    219774563    105717942750       107.354214     53.677107   \n",
       "14732    219774563    106014392149       107.354214     53.677107   \n",
       "\n",
       "       bonus_turn_amt  \n",
       "10408        1.610313  \n",
       "12574        1.610313  \n",
       "12575        1.610313  \n",
       "13695        1.610313  \n",
       "14732        1.610313  "
      ]
     },
     "execution_count": 226,
     "metadata": {},
     "output_type": "execute_result"
    }
   ],
   "source": [
    "file_path.query('customer_id == 219774563').head()"
   ]
  },
  {
   "cell_type": "markdown",
   "id": "c4781a5c",
   "metadata": {},
   "source": [
    "пользователь 219774563 заказывал один товар 20 раз. возможно его не нужно будет учитывать тк это возможный выброс"
   ]
  },
  {
   "cell_type": "code",
   "execution_count": 227,
   "id": "979db080",
   "metadata": {},
   "outputs": [],
   "source": [
    "#срезы на контрольную и целевую группы\n",
    "contr_gr = file_path.query('control_group_flg == True')\n",
    "act_gr = file_path.query('control_group_flg == False')"
   ]
  },
  {
   "cell_type": "code",
   "execution_count": 228,
   "id": "f33571ab",
   "metadata": {},
   "outputs": [],
   "source": [
    "#срезы целевых и контрольных групп для каждой акции\n",
    "target_new = file_path.query('promo == \"Целевая 7% на Новых\"')\n",
    "control_new = file_path.query('promo == \"Контрольная 7% на Новых\"')\n",
    "target_retention = file_path.query('promo == \"Целевая 6% на Отток\"')\n",
    "control_retention = file_path.query('promo == \"Контрольная 6% на Отток\"')"
   ]
  },
  {
   "cell_type": "markdown",
   "id": "448f2ece",
   "metadata": {},
   "source": [
    "Анализ метрик:"
   ]
  },
  {
   "cell_type": "markdown",
   "id": "2a923887",
   "metadata": {},
   "source": [
    "- средний чек по каждому пользователю каждой группы\n",
    "\n",
    "- средняя сумма по пользователям каждой группы\n"
   ]
  },
  {
   "cell_type": "markdown",
   "id": "30e65c62",
   "metadata": {},
   "source": [
    "Средний оборот, медиана, минимум, максимум, количество - по транзакциям:"
   ]
  },
  {
   "cell_type": "code",
   "execution_count": 229,
   "id": "e1ffedfe",
   "metadata": {},
   "outputs": [
    {
     "data": {
      "text/html": [
       "<div>\n",
       "<style scoped>\n",
       "    .dataframe tbody tr th:only-of-type {\n",
       "        vertical-align: middle;\n",
       "    }\n",
       "\n",
       "    .dataframe tbody tr th {\n",
       "        vertical-align: top;\n",
       "    }\n",
       "\n",
       "    .dataframe thead th {\n",
       "        text-align: right;\n",
       "    }\n",
       "</style>\n",
       "<table border=\"1\" class=\"dataframe\">\n",
       "  <thead>\n",
       "    <tr style=\"text-align: right;\">\n",
       "      <th></th>\n",
       "      <th>transaction_amt</th>\n",
       "      <th>monetary_amt</th>\n",
       "      <th>bonus_turn_amt</th>\n",
       "    </tr>\n",
       "  </thead>\n",
       "  <tbody>\n",
       "    <tr>\n",
       "      <th>count</th>\n",
       "      <td>16295.000000</td>\n",
       "      <td>16295.000000</td>\n",
       "      <td>16295.000000</td>\n",
       "    </tr>\n",
       "    <tr>\n",
       "      <th>mean</th>\n",
       "      <td>668.948002</td>\n",
       "      <td>457.128493</td>\n",
       "      <td>28.848743</td>\n",
       "    </tr>\n",
       "    <tr>\n",
       "      <th>std</th>\n",
       "      <td>973.696038</td>\n",
       "      <td>742.514119</td>\n",
       "      <td>49.668164</td>\n",
       "    </tr>\n",
       "    <tr>\n",
       "      <th>min</th>\n",
       "      <td>2.514349</td>\n",
       "      <td>2.514349</td>\n",
       "      <td>0.084753</td>\n",
       "    </tr>\n",
       "    <tr>\n",
       "      <th>25%</th>\n",
       "      <td>122.489746</td>\n",
       "      <td>88.990993</td>\n",
       "      <td>5.353585</td>\n",
       "    </tr>\n",
       "    <tr>\n",
       "      <th>50%</th>\n",
       "      <td>344.592902</td>\n",
       "      <td>220.598785</td>\n",
       "      <td>13.150891</td>\n",
       "    </tr>\n",
       "    <tr>\n",
       "      <th>75%</th>\n",
       "      <td>839.460516</td>\n",
       "      <td>519.707402</td>\n",
       "      <td>32.262767</td>\n",
       "    </tr>\n",
       "    <tr>\n",
       "      <th>max</th>\n",
       "      <td>16809.409872</td>\n",
       "      <td>14437.729269</td>\n",
       "      <td>1010.641049</td>\n",
       "    </tr>\n",
       "  </tbody>\n",
       "</table>\n",
       "</div>"
      ],
      "text/plain": [
       "       transaction_amt  monetary_amt  bonus_turn_amt\n",
       "count     16295.000000  16295.000000    16295.000000\n",
       "mean        668.948002    457.128493       28.848743\n",
       "std         973.696038    742.514119       49.668164\n",
       "min           2.514349      2.514349        0.084753\n",
       "25%         122.489746     88.990993        5.353585\n",
       "50%         344.592902    220.598785       13.150891\n",
       "75%         839.460516    519.707402       32.262767\n",
       "max       16809.409872  14437.729269     1010.641049"
      ]
     },
     "execution_count": 229,
     "metadata": {},
     "output_type": "execute_result"
    }
   ],
   "source": [
    "#Целевая 7% на Новых\n",
    "target_new[['transaction_amt','monetary_amt','bonus_turn_amt']].describe()"
   ]
  },
  {
   "cell_type": "markdown",
   "id": "68af98cc",
   "metadata": {},
   "source": [
    "Целевая 7% на Новых:\n",
    "средний чек у пользователей = 457р,\n",
    "медиана = 220р"
   ]
  },
  {
   "cell_type": "code",
   "execution_count": 230,
   "id": "bcd82e5b",
   "metadata": {},
   "outputs": [
    {
     "data": {
      "text/plain": [
       "15.84569902360077"
      ]
     },
     "execution_count": 230,
     "metadata": {},
     "output_type": "execute_result"
    }
   ],
   "source": [
    "#количество рублей принесеные партнеру за 1 бонус\n",
    "target_new['monetary_amt'].sum()/target_new['bonus_turn_amt'].sum()"
   ]
  },
  {
   "cell_type": "code",
   "execution_count": 231,
   "id": "4d6417e1",
   "metadata": {},
   "outputs": [
    {
     "data": {
      "image/png": "[encoded data removed]",
      "text/plain": [
       "<Figure size 432x288 with 1 Axes>"
      ]
     },
     "metadata": {
      "needs_background": "light"
     },
     "output_type": "display_data"
    }
   ],
   "source": [
    "#соотношение новых пользователей и пользователей повторно сделавшие заказы\n",
    "( (target_new['bonus_turn_amt']/target_new['monetary_amt']*100)\n",
    "      .plot(kind='hist', bins=10, title='проценты начисления бонусов', grid=True) )\n",
    "\n",
    "plt.xlabel(\"начисление бонусов %\")\n",
    "plt.ylabel(\"кол-во пользователей\")\n",
    "plt.show()\n"
   ]
  },
  {
   "cell_type": "code",
   "execution_count": 235,
   "id": "4fa049eb",
   "metadata": {},
   "outputs": [
    {
     "data": {
      "text/html": [
       "<div>\n",
       "<style scoped>\n",
       "    .dataframe tbody tr th:only-of-type {\n",
       "        vertical-align: middle;\n",
       "    }\n",
       "\n",
       "    .dataframe tbody tr th {\n",
       "        vertical-align: top;\n",
       "    }\n",
       "\n",
       "    .dataframe thead th {\n",
       "        text-align: right;\n",
       "    }\n",
       "</style>\n",
       "<table border=\"1\" class=\"dataframe\">\n",
       "  <thead>\n",
       "    <tr style=\"text-align: right;\">\n",
       "      <th></th>\n",
       "      <th>transaction_amt</th>\n",
       "      <th>monetary_amt</th>\n",
       "      <th>bonus_turn_amt</th>\n",
       "    </tr>\n",
       "  </thead>\n",
       "  <tbody>\n",
       "    <tr>\n",
       "      <th>count</th>\n",
       "      <td>1775.000000</td>\n",
       "      <td>1775.000000</td>\n",
       "      <td>1775.000000</td>\n",
       "    </tr>\n",
       "    <tr>\n",
       "      <th>mean</th>\n",
       "      <td>638.001472</td>\n",
       "      <td>429.160743</td>\n",
       "      <td>12.875351</td>\n",
       "    </tr>\n",
       "    <tr>\n",
       "      <th>std</th>\n",
       "      <td>991.124677</td>\n",
       "      <td>733.091651</td>\n",
       "      <td>21.992639</td>\n",
       "    </tr>\n",
       "    <tr>\n",
       "      <th>min</th>\n",
       "      <td>2.825111</td>\n",
       "      <td>2.825111</td>\n",
       "      <td>0.084753</td>\n",
       "    </tr>\n",
       "    <tr>\n",
       "      <th>25%</th>\n",
       "      <td>122.892324</td>\n",
       "      <td>90.050410</td>\n",
       "      <td>2.697981</td>\n",
       "    </tr>\n",
       "    <tr>\n",
       "      <th>50%</th>\n",
       "      <td>351.726307</td>\n",
       "      <td>226.856406</td>\n",
       "      <td>6.808517</td>\n",
       "    </tr>\n",
       "    <tr>\n",
       "      <th>75%</th>\n",
       "      <td>801.512214</td>\n",
       "      <td>480.268853</td>\n",
       "      <td>14.408066</td>\n",
       "    </tr>\n",
       "    <tr>\n",
       "      <th>max</th>\n",
       "      <td>18443.454019</td>\n",
       "      <td>11888.038428</td>\n",
       "      <td>356.642000</td>\n",
       "    </tr>\n",
       "  </tbody>\n",
       "</table>\n",
       "</div>"
      ],
      "text/plain": [
       "       transaction_amt  monetary_amt  bonus_turn_amt\n",
       "count      1775.000000   1775.000000     1775.000000\n",
       "mean        638.001472    429.160743       12.875351\n",
       "std         991.124677    733.091651       21.992639\n",
       "min           2.825111      2.825111        0.084753\n",
       "25%         122.892324     90.050410        2.697981\n",
       "50%         351.726307    226.856406        6.808517\n",
       "75%         801.512214    480.268853       14.408066\n",
       "max       18443.454019  11888.038428      356.642000"
      ]
     },
     "execution_count": 235,
     "metadata": {},
     "output_type": "execute_result"
    }
   ],
   "source": [
    "#контрольная 7% на Новых\n",
    "control_new[['transaction_amt','monetary_amt','bonus_turn_amt']].describe()"
   ]
  },
  {
   "cell_type": "markdown",
   "id": "096ed76c",
   "metadata": {},
   "source": [
    "Контрольная 7% на Новых:\n",
    "средний чек у пользователей = 429р,\n",
    "медиана = 226р"
   ]
  },
  {
   "cell_type": "code",
   "execution_count": 236,
   "id": "17fd22ac",
   "metadata": {},
   "outputs": [
    {
     "data": {
      "text/plain": [
       "<AxesSubplot:>"
      ]
     },
     "execution_count": 236,
     "metadata": {},
     "output_type": "execute_result"
    },
    {
     "data": {
      "image/png": "[encoded data removed]",
      "text/plain": [
       "<Figure size 432x288 with 1 Axes>"
      ]
     },
     "metadata": {
      "needs_background": "light"
     },
     "output_type": "display_data"
    }
   ],
   "source": [
    "(control_new['bonus_turn_amt']/control_new['monetary_amt']*100).hist()"
   ]
  },
  {
   "cell_type": "code",
   "execution_count": 237,
   "id": "1af0a886",
   "metadata": {},
   "outputs": [
    {
     "name": "stdout",
     "output_type": "stream",
     "text": [
      "количество рублей принесеные партнеру за 1 бонус Контрольная группа на Новых =\n"
     ]
    },
    {
     "data": {
      "text/plain": [
       "33.33"
      ]
     },
     "execution_count": 237,
     "metadata": {},
     "output_type": "execute_result"
    }
   ],
   "source": [
    "#количество рублей принесеные партнеру за 1 бонус\n",
    "print('количество рублей принесеные партнеру за 1 бонус Контрольная группа на Новых =')\n",
    "round(control_new['monetary_amt'].sum()/control_new['bonus_turn_amt'].sum(),2)"
   ]
  },
  {
   "cell_type": "code",
   "execution_count": 238,
   "id": "88a24c7b",
   "metadata": {},
   "outputs": [
    {
     "data": {
      "text/html": [
       "<div>\n",
       "<style scoped>\n",
       "    .dataframe tbody tr th:only-of-type {\n",
       "        vertical-align: middle;\n",
       "    }\n",
       "\n",
       "    .dataframe tbody tr th {\n",
       "        vertical-align: top;\n",
       "    }\n",
       "\n",
       "    .dataframe thead th {\n",
       "        text-align: right;\n",
       "    }\n",
       "</style>\n",
       "<table border=\"1\" class=\"dataframe\">\n",
       "  <thead>\n",
       "    <tr style=\"text-align: right;\">\n",
       "      <th></th>\n",
       "      <th>transaction_amt</th>\n",
       "      <th>monetary_amt</th>\n",
       "      <th>bonus_turn_amt</th>\n",
       "    </tr>\n",
       "  </thead>\n",
       "  <tbody>\n",
       "    <tr>\n",
       "      <th>count</th>\n",
       "      <td>4622.000000</td>\n",
       "      <td>4622.000000</td>\n",
       "      <td>4622.000000</td>\n",
       "    </tr>\n",
       "    <tr>\n",
       "      <th>mean</th>\n",
       "      <td>667.510523</td>\n",
       "      <td>469.840172</td>\n",
       "      <td>25.352611</td>\n",
       "    </tr>\n",
       "    <tr>\n",
       "      <th>std</th>\n",
       "      <td>1508.533444</td>\n",
       "      <td>1421.449394</td>\n",
       "      <td>84.474685</td>\n",
       "    </tr>\n",
       "    <tr>\n",
       "      <th>min</th>\n",
       "      <td>2.825111</td>\n",
       "      <td>2.825111</td>\n",
       "      <td>0.084753</td>\n",
       "    </tr>\n",
       "    <tr>\n",
       "      <th>25%</th>\n",
       "      <td>135.004987</td>\n",
       "      <td>92.946149</td>\n",
       "      <td>4.915693</td>\n",
       "    </tr>\n",
       "    <tr>\n",
       "      <th>50%</th>\n",
       "      <td>357.094018</td>\n",
       "      <td>223.579277</td>\n",
       "      <td>11.420511</td>\n",
       "    </tr>\n",
       "    <tr>\n",
       "      <th>75%</th>\n",
       "      <td>832.701439</td>\n",
       "      <td>511.980723</td>\n",
       "      <td>27.357668</td>\n",
       "    </tr>\n",
       "    <tr>\n",
       "      <th>max</th>\n",
       "      <td>84372.389133</td>\n",
       "      <td>84372.389133</td>\n",
       "      <td>5062.344478</td>\n",
       "    </tr>\n",
       "  </tbody>\n",
       "</table>\n",
       "</div>"
      ],
      "text/plain": [
       "       transaction_amt  monetary_amt  bonus_turn_amt\n",
       "count      4622.000000   4622.000000     4622.000000\n",
       "mean        667.510523    469.840172       25.352611\n",
       "std        1508.533444   1421.449394       84.474685\n",
       "min           2.825111      2.825111        0.084753\n",
       "25%         135.004987     92.946149        4.915693\n",
       "50%         357.094018    223.579277       11.420511\n",
       "75%         832.701439    511.980723       27.357668\n",
       "max       84372.389133  84372.389133     5062.344478"
      ]
     },
     "execution_count": 238,
     "metadata": {},
     "output_type": "execute_result"
    }
   ],
   "source": [
    "#целевая 7% на Отток\n",
    "target_retention[['transaction_amt','monetary_amt','bonus_turn_amt']].describe()"
   ]
  },
  {
   "cell_type": "markdown",
   "id": "8856f22e",
   "metadata": {},
   "source": [
    "целевая 6% на Отток:\n",
    "средний чек у пользователей = 469р,\n",
    "медиана = 223р"
   ]
  },
  {
   "cell_type": "code",
   "execution_count": 239,
   "id": "b9b32bce",
   "metadata": {},
   "outputs": [
    {
     "name": "stdout",
     "output_type": "stream",
     "text": [
      "количество рублей принесеные партнеру за 1 бонус Целевая группа на отток =\n"
     ]
    },
    {
     "data": {
      "text/plain": [
       "18.53"
      ]
     },
     "execution_count": 239,
     "metadata": {},
     "output_type": "execute_result"
    }
   ],
   "source": [
    "#количество рублей принесеные партнеру за 1 бонус\n",
    "print('количество рублей принесеные партнеру за 1 бонус Целевая группа на отток =')\n",
    "round(target_retention['monetary_amt'].sum()/target_retention['bonus_turn_amt'].sum(),2)"
   ]
  },
  {
   "cell_type": "code",
   "execution_count": 240,
   "id": "3268be5e",
   "metadata": {},
   "outputs": [
    {
     "data": {
      "text/html": [
       "<div>\n",
       "<style scoped>\n",
       "    .dataframe tbody tr th:only-of-type {\n",
       "        vertical-align: middle;\n",
       "    }\n",
       "\n",
       "    .dataframe tbody tr th {\n",
       "        vertical-align: top;\n",
       "    }\n",
       "\n",
       "    .dataframe thead th {\n",
       "        text-align: right;\n",
       "    }\n",
       "</style>\n",
       "<table border=\"1\" class=\"dataframe\">\n",
       "  <thead>\n",
       "    <tr style=\"text-align: right;\">\n",
       "      <th></th>\n",
       "      <th>transaction_amt</th>\n",
       "      <th>monetary_amt</th>\n",
       "      <th>bonus_turn_amt</th>\n",
       "    </tr>\n",
       "  </thead>\n",
       "  <tbody>\n",
       "    <tr>\n",
       "      <th>count</th>\n",
       "      <td>433.000000</td>\n",
       "      <td>433.000000</td>\n",
       "      <td>433.000000</td>\n",
       "    </tr>\n",
       "    <tr>\n",
       "      <th>mean</th>\n",
       "      <td>644.367117</td>\n",
       "      <td>467.240492</td>\n",
       "      <td>14.017770</td>\n",
       "    </tr>\n",
       "    <tr>\n",
       "      <th>std</th>\n",
       "      <td>821.632856</td>\n",
       "      <td>691.376668</td>\n",
       "      <td>20.741396</td>\n",
       "    </tr>\n",
       "    <tr>\n",
       "      <th>min</th>\n",
       "      <td>2.825111</td>\n",
       "      <td>2.825111</td>\n",
       "      <td>0.084753</td>\n",
       "    </tr>\n",
       "    <tr>\n",
       "      <th>25%</th>\n",
       "      <td>156.793655</td>\n",
       "      <td>108.908025</td>\n",
       "      <td>3.263003</td>\n",
       "    </tr>\n",
       "    <tr>\n",
       "      <th>50%</th>\n",
       "      <td>351.726307</td>\n",
       "      <td>243.242049</td>\n",
       "      <td>7.302912</td>\n",
       "    </tr>\n",
       "    <tr>\n",
       "      <th>75%</th>\n",
       "      <td>849.228337</td>\n",
       "      <td>538.183627</td>\n",
       "      <td>16.145509</td>\n",
       "    </tr>\n",
       "    <tr>\n",
       "      <th>max</th>\n",
       "      <td>6633.360400</td>\n",
       "      <td>5464.470764</td>\n",
       "      <td>163.941186</td>\n",
       "    </tr>\n",
       "  </tbody>\n",
       "</table>\n",
       "</div>"
      ],
      "text/plain": [
       "       transaction_amt  monetary_amt  bonus_turn_amt\n",
       "count       433.000000    433.000000      433.000000\n",
       "mean        644.367117    467.240492       14.017770\n",
       "std         821.632856    691.376668       20.741396\n",
       "min           2.825111      2.825111        0.084753\n",
       "25%         156.793655    108.908025        3.263003\n",
       "50%         351.726307    243.242049        7.302912\n",
       "75%         849.228337    538.183627       16.145509\n",
       "max        6633.360400   5464.470764      163.941186"
      ]
     },
     "execution_count": 240,
     "metadata": {},
     "output_type": "execute_result"
    }
   ],
   "source": [
    "#контрольная 7% на Отток\n",
    "control_retention[['transaction_amt','monetary_amt','bonus_turn_amt']].describe()"
   ]
  },
  {
   "cell_type": "markdown",
   "id": "d484e223",
   "metadata": {},
   "source": [
    "контрольная 6% на Отток:\n",
    "средний чек у пользователей = 467р,\n",
    "медиана = 243р"
   ]
  },
  {
   "cell_type": "code",
   "execution_count": 241,
   "id": "430a3a11",
   "metadata": {},
   "outputs": [
    {
     "name": "stdout",
     "output_type": "stream",
     "text": [
      "количество рублей принесеные партнеру за 1 бонус Контрольная группа на отток =\n"
     ]
    },
    {
     "data": {
      "text/plain": [
       "33.33"
      ]
     },
     "execution_count": 241,
     "metadata": {},
     "output_type": "execute_result"
    }
   ],
   "source": [
    "#количество рублей принесеные партнеру за 1 бонус\n",
    "print('количество рублей принесеные партнеру за 1 бонус Контрольная группа на отток =')\n",
    "round(control_retention['monetary_amt'].sum()/control_retention['bonus_turn_amt'].sum(),2)"
   ]
  },
  {
   "cell_type": "markdown",
   "id": "adb698fc",
   "metadata": {},
   "source": [
    "# Гипотезы"
   ]
  },
  {
   "cell_type": "markdown",
   "id": "f3e28db4",
   "metadata": {},
   "source": [
    "Нулевая гипотеза: НЕТ статистически значимых различий между тратами контрольной и целевой группами.\n",
    "\n",
    "Альтернативная гипотеза: ЕСТЬ статистически значимые различия в тратах между группами.\n",
    "\n",
    "Выберем значение alpha = 0,05 Посчитаем статистическую значимость различий между контрольной и целевой группами."
   ]
  },
  {
   "cell_type": "code",
   "execution_count": 247,
   "id": "e64b5489",
   "metadata": {},
   "outputs": [],
   "source": [
    "#Оценка эффективности акции:\n",
    "\n",
    "#Оценка статистической значимости:\n",
    "\n",
    "\n",
    "# Тест для группы \"Новые\"\n",
    "t_stat_new, p_val_new = stats.ttest_ind(target_new['monetary_amt'], control_new['monetary_amt'])\n",
    "\n",
    "# Тест для группы \"Отток\"\n",
    "t_stat_retention, p_val_retention = stats.ttest_ind(target_retention['monetary_amt'], control_retention['monetary_amt'])"
   ]
  },
  {
   "cell_type": "code",
   "execution_count": 248,
   "id": "67c87696",
   "metadata": {},
   "outputs": [
    {
     "data": {
      "text/plain": [
       "0.13136137341776916"
      ]
     },
     "execution_count": 248,
     "metadata": {},
     "output_type": "execute_result"
    }
   ],
   "source": [
    "p_val_new"
   ]
  },
  {
   "cell_type": "code",
   "execution_count": 249,
   "id": "98cd5b68",
   "metadata": {},
   "outputs": [
    {
     "data": {
      "text/plain": [
       "0.9699766383290425"
      ]
     },
     "execution_count": 249,
     "metadata": {},
     "output_type": "execute_result"
    }
   ],
   "source": [
    "p_val_retention"
   ]
  },
  {
   "cell_type": "code",
   "execution_count": 250,
   "id": "30f2afaa",
   "metadata": {},
   "outputs": [
    {
     "data": {
      "text/plain": [
       "1.5088235216392658"
      ]
     },
     "execution_count": 250,
     "metadata": {},
     "output_type": "execute_result"
    }
   ],
   "source": [
    "t_stat_new"
   ]
  },
  {
   "cell_type": "code",
   "execution_count": 251,
   "id": "2af9cfa1",
   "metadata": {},
   "outputs": [
    {
     "data": {
      "text/plain": [
       "0.037639452728427975"
      ]
     },
     "execution_count": 251,
     "metadata": {},
     "output_type": "execute_result"
    }
   ],
   "source": [
    "t_stat_retention"
   ]
  },
  {
   "cell_type": "markdown",
   "id": "cd2feed7",
   "metadata": {},
   "source": [
    "Не получилось отвергнуть нулевую гипотезу, нет оснований считать траты контрольных и целевых группы разными поскольку p-значение > 0.05"
   ]
  },
  {
   "cell_type": "markdown",
   "id": "1dc0d8be",
   "metadata": {},
   "source": [
    "# Саммари-таблица "
   ]
  },
  {
   "cell_type": "code",
   "execution_count": 252,
   "id": "52f131d9",
   "metadata": {},
   "outputs": [
    {
     "data": {
      "text/html": [
       "<div>\n",
       "<style scoped>\n",
       "    .dataframe tbody tr th:only-of-type {\n",
       "        vertical-align: middle;\n",
       "    }\n",
       "\n",
       "    .dataframe tbody tr th {\n",
       "        vertical-align: top;\n",
       "    }\n",
       "\n",
       "    .dataframe thead th {\n",
       "        text-align: right;\n",
       "    }\n",
       "</style>\n",
       "<table border=\"1\" class=\"dataframe\">\n",
       "  <thead>\n",
       "    <tr style=\"text-align: right;\">\n",
       "      <th></th>\n",
       "      <th>promo</th>\n",
       "      <th>control_group_flg</th>\n",
       "      <th>unique_customers</th>\n",
       "      <th>total_transactions</th>\n",
       "      <th>total_transaction_amt</th>\n",
       "      <th>total_monetary_amt</th>\n",
       "      <th>total_bonus_amt</th>\n",
       "      <th>avg_monetary_check</th>\n",
       "    </tr>\n",
       "  </thead>\n",
       "  <tbody>\n",
       "    <tr>\n",
       "      <th>0</th>\n",
       "      <td>Контрольная — Отток</td>\n",
       "      <td>True</td>\n",
       "      <td>342</td>\n",
       "      <td>433</td>\n",
       "      <td>2.790110e+05</td>\n",
       "      <td>2.023151e+05</td>\n",
       "      <td>6069.694273</td>\n",
       "      <td>467.240492</td>\n",
       "    </tr>\n",
       "    <tr>\n",
       "      <th>1</th>\n",
       "      <td>Контрольная — Новых</td>\n",
       "      <td>True</td>\n",
       "      <td>1474</td>\n",
       "      <td>1775</td>\n",
       "      <td>1.132453e+06</td>\n",
       "      <td>7.617603e+05</td>\n",
       "      <td>22853.748775</td>\n",
       "      <td>429.160743</td>\n",
       "    </tr>\n",
       "    <tr>\n",
       "      <th>2</th>\n",
       "      <td>Целевая — Отток</td>\n",
       "      <td>False</td>\n",
       "      <td>3545</td>\n",
       "      <td>4622</td>\n",
       "      <td>3.085234e+06</td>\n",
       "      <td>2.171601e+06</td>\n",
       "      <td>117179.766399</td>\n",
       "      <td>469.840172</td>\n",
       "    </tr>\n",
       "    <tr>\n",
       "      <th>3</th>\n",
       "      <td>Целевая — Новых</td>\n",
       "      <td>False</td>\n",
       "      <td>13378</td>\n",
       "      <td>16295</td>\n",
       "      <td>1.090051e+07</td>\n",
       "      <td>7.448909e+06</td>\n",
       "      <td>470090.261422</td>\n",
       "      <td>457.128493</td>\n",
       "    </tr>\n",
       "  </tbody>\n",
       "</table>\n",
       "</div>"
      ],
      "text/plain": [
       "                 promo  control_group_flg  unique_customers  \\\n",
       "0  Контрольная — Отток               True               342   \n",
       "1  Контрольная — Новых               True              1474   \n",
       "2      Целевая — Отток              False              3545   \n",
       "3      Целевая — Новых              False             13378   \n",
       "\n",
       "   total_transactions  total_transaction_amt  total_monetary_amt  \\\n",
       "0                 433           2.790110e+05        2.023151e+05   \n",
       "1                1775           1.132453e+06        7.617603e+05   \n",
       "2                4622           3.085234e+06        2.171601e+06   \n",
       "3               16295           1.090051e+07        7.448909e+06   \n",
       "\n",
       "   total_bonus_amt  avg_monetary_check  \n",
       "0      6069.694273          467.240492  \n",
       "1     22853.748775          429.160743  \n",
       "2    117179.766399          469.840172  \n",
       "3    470090.261422          457.128493  "
      ]
     },
     "execution_count": 252,
     "metadata": {},
     "output_type": "execute_result"
    }
   ],
   "source": [
    "# Группировка по акциям и контрольной и целевой группе\n",
    "grouped = file_path.groupby(['promo', 'control_group_flg']).agg(\n",
    "    unique_customers=('customer_id', 'nunique'),\n",
    "    total_transactions=('transaction_id', 'count'),\n",
    "    total_transaction_amt=('transaction_amt', 'sum'),\n",
    "    total_monetary_amt=('monetary_amt', 'sum'),\n",
    "    total_bonus_amt=('bonus_turn_amt', 'sum'),\n",
    "    avg_monetary_check=('monetary_amt', 'mean')\n",
    "   ).reset_index()\n",
    "\n",
    "\n",
    "# Создание читаемых названий групп\n",
    "grouped['promo'] = grouped.apply(\n",
    "    lambda x: f\"{'Контрольная' if x['control_group_flg'] else 'Целевая'} — {x['promo'].split()[-1]}\", axis=1 )\n",
    "\n",
    "grouped"
   ]
  },
  {
   "cell_type": "markdown",
   "id": "d1ff95a1",
   "metadata": {},
   "source": [
    "поскольку целевая группа пользователей гораздо больше контрольной можно предположить что в целевой группе пользователи сделали заказ именно изза рассылки,\n",
    "по этой причине в контрольной группе пользователи не совершали заказов."
   ]
  },
  {
   "cell_type": "markdown",
   "id": "9818d06f",
   "metadata": {},
   "source": [
    "посчитаем дополнительный прирост от акций"
   ]
  },
  {
   "cell_type": "code",
   "execution_count": 253,
   "id": "e3ad27dc",
   "metadata": {},
   "outputs": [
    {
     "data": {
      "text/plain": [
       "{'7% на Новых': (556.8, 516.8, 40.0, 18399779.09),\n",
       " '6% на Отток': (612.58, 591.56, 21.02, 677243.53)}"
      ]
     },
     "execution_count": 253,
     "metadata": {},
     "output_type": "execute_result"
    }
   ],
   "source": [
    "# доп прирост от акций\n",
    "# Расчет среднего рублевого оборота на клиента\n",
    "def calc_effect(df, target_name, control_name, target_clients):\n",
    "    target_avg = df.loc[df['promo'] == target_name, 'total_monetary_amt'].values[0] / \\\n",
    "                 df.loc[df['promo'] == target_name, 'unique_customers'].values[0]\n",
    "    control_avg = df.loc[df['promo'] == control_name, 'total_monetary_amt'].values[0] / \\\n",
    "                  df.loc[df['promo'] == control_name, 'unique_customers'].values[0]\n",
    "    uplift = target_avg - control_avg\n",
    "    total_gain = uplift * target_clients\n",
    "    return round(target_avg, 2), round(control_avg, 2), round(uplift, 2), round(total_gain, 2)\n",
    "\n",
    "# Расчёты для двух акций\n",
    "results = {\n",
    "    '7% на Новых': calc_effect(grouped, 'Целевая — Новых', 'Контрольная — Новых', 459939),\n",
    "    '6% на Отток': calc_effect(grouped, 'Целевая — Отток', 'Контрольная — Отток', 32224),\n",
    "}\n",
    "\n",
    "results"
   ]
  },
  {
   "cell_type": "markdown",
   "id": "842f10df",
   "metadata": {},
   "source": [
    "акции показали положительный эффект. \n",
    "\n",
    "акция 7% на новых дала 18.4 млн.\n",
    "\n",
    "акция 6% на отток дала 677 тыс.\n",
    "\n"
   ]
  },
  {
   "cell_type": "code",
   "execution_count": null,
   "id": "ac0573d9",
   "metadata": {},
   "outputs": [],
   "source": []
  }
 ],
 "metadata": {
  "kernelspec": {
   "display_name": "Python 3 (ipykernel)",
   "language": "python",
   "name": "python3"
  },
  "language_info": {
   "codemirror_mode": {
    "name": "ipython",
    "version": 3
   },
   "file_extension": ".py",
   "mimetype": "text/x-python",
   "name": "python",
   "nbconvert_exporter": "python",
   "pygments_lexer": "ipython3",
   "version": "3.9.7"
  }
 },
 "nbformat": 4,
 "nbformat_minor": 5
}
