{
 "cells": [
  {
   "cell_type": "markdown",
   "id": "221f7fc9-a29b-4a13-9462-fba6d121f9a0",
   "metadata": {},
   "source": [
    "описание задания : \n",
    "В игре есть лутбокс, в нём 67 уникальных наград, одна из них особая, за которой игроки охотятся, назовём её \"премиум\". Когда игрок получает непремиальную награду, то больше в этом лутбоксе она ему не встретится (т.е. для следующего открытия наград станет на 1 меньше). Когда игрок получает премиум награду, лутбокс автоматически меняется на новый. В нём снова 67 предметов, одна из которых премиум. Вероятность абсолютно честная! Т.е. вероятность выбить премиум при 67 наградах внутри - 1/67, 1/66 - при 66 наградах и т.д.\n",
    "\n",
    "Какое мат.ожидание количества открытий лутбоксов для получения двух премиум наград?"
   ]
  },
  {
   "cell_type": "code",
   "execution_count": 11,
   "id": "74cfd004-8b64-4020-8c5c-46b2eab3bce7",
   "metadata": {},
   "outputs": [],
   "source": [
    "def h_sum(n):\n",
    "    return sum(1/i for i in range(1, n+1))"
   ]
  },
  {
   "cell_type": "code",
   "execution_count": 7,
   "id": "0b159f76-850a-4cac-8e12-6cd91451ff8b",
   "metadata": {},
   "outputs": [],
   "source": [
    "#Кол-во призов в лутбоксе\n",
    "N = 67"
   ]
  },
  {
   "cell_type": "code",
   "execution_count": 8,
   "id": "792b4f81-f669-4eaa-9163-be2d21364f09",
   "metadata": {},
   "outputs": [],
   "source": [
    "#Среднее количество попыток для получения одной премии\n",
    "one_premium = h_sum(N)"
   ]
  },
  {
   "cell_type": "code",
   "execution_count": 9,
   "id": "4ba4be40-0dda-47ba-8f87-56f93b784c51",
   "metadata": {},
   "outputs": [],
   "source": [
    "#Среднее количество попыток для получения двух премий\n",
    "two_premium = h_sum(N)*2"
   ]
  },
  {
   "cell_type": "code",
   "execution_count": 10,
   "id": "d176d4f2-a860-4046-b963-282ed5cd17a1",
   "metadata": {},
   "outputs": [
    {
     "name": "stdout",
     "output_type": "stream",
     "text": [
      "Математическое ожидание для двух премий= 9.578704814752456\n",
      "Математическое ожидание для одной премии= 4.789352407376228\n"
     ]
    }
   ],
   "source": [
    "print(\"Математическое ожидание для двух премий=\", two_premium)\n",
    "print(\"Математическое ожидание для одной премии=\", one_premium)"
   ]
  },
  {
   "cell_type": "code",
   "execution_count": null,
   "id": "fb392b09-e879-4eb8-a044-7e21354005f8",
   "metadata": {},
   "outputs": [],
   "source": []
  }
 ],
 "metadata": {
  "kernelspec": {
   "display_name": "Python [conda env:base] *",
   "language": "python",
   "name": "conda-base-py"
  },
  "language_info": {
   "codemirror_mode": {
    "name": "ipython",
    "version": 3
   },
   "file_extension": ".py",
   "mimetype": "text/x-python",
   "name": "python",
   "nbconvert_exporter": "python",
   "pygments_lexer": "ipython3",
   "version": "3.12.7"
  }
 },
 "nbformat": 4,
 "nbformat_minor": 5
}
