{
 "cells": [
  {
   "cell_type": "code",
   "execution_count": 1,
   "id": "b9b1bcb3-b724-43db-955e-a5dd08f8fc7a",
   "metadata": {},
   "outputs": [],
   "source": [
    "import math"
   ]
  },
  {
   "cell_type": "code",
   "execution_count": 2,
   "id": "485a2240-6592-4af7-8de6-f48b17f07cf5",
   "metadata": {},
   "outputs": [],
   "source": [
    "def combination(n, k):\n",
    "    # Проверка на некорректные аргументы\n",
    "    if not isinstance(n, int) or not isinstance(k, int):\n",
    "        raise TypeError(\"Параметры n и k должны быть целыми числами.\")\n",
    "    \n",
    "    if n < 0 or k < 0:\n",
    "        raise ValueError(\"Параметры n и k должны быть неотрицательными.\")\n",
    "        \n",
    "    if k > n:\n",
    "        raise ValueError(\"Параметр k не может превышать n.\")\n",
    "    \n",
    "    # Расчет сочетания по формуле\n",
    "    result = math.factorial(n) // (math.factorial(k) * math.factorial(n - k))\n",
    "    return result"
   ]
  },
  {
   "cell_type": "code",
   "execution_count": 3,
   "id": "d5d5068d-5c94-4bb5-aea1-494aee8708f4",
   "metadata": {},
   "outputs": [
    {
     "name": "stdout",
     "output_type": "stream",
     "text": [
      "6\n"
     ]
    }
   ],
   "source": [
    "#Кол-во возможных пар карт одного номинала\n",
    "pair = combination(4,2)\n",
    "print(pair)"
   ]
  },
  {
   "cell_type": "code",
   "execution_count": 4,
   "id": "63ce434c-8c5f-4496-bfac-b35aa9480706",
   "metadata": {},
   "outputs": [
    {
     "name": "stdout",
     "output_type": "stream",
     "text": [
      "вероятность получения пары первым игроком= 0.058823529411764705\n"
     ]
    }
   ],
   "source": [
    "#вероятность получения пары первым игроком\n",
    "first_player = combination(13,1) * pair/combination(52,2)\n",
    "print(\"вероятность получения пары первым игроком=\", first_player)"
   ]
  },
  {
   "cell_type": "code",
   "execution_count": 5,
   "id": "b1d9669d-7561-48e7-b569-080b896605b3",
   "metadata": {},
   "outputs": [
    {
     "name": "stdout",
     "output_type": "stream",
     "text": [
      "вероятность получения пары вторым игроком= 0.05959183673469388\n"
     ]
    }
   ],
   "source": [
    "#вероятность получения пары вторым игроком\n",
    "second_player = (combination(12,1)*pair+combination(2,2))/combination(50,2)\n",
    "print(\"вероятность получения пары вторым игроком=\", second_player)"
   ]
  },
  {
   "cell_type": "code",
   "execution_count": 6,
   "id": "0b9c4038-473a-4277-917f-a71a14ef5192",
   "metadata": {},
   "outputs": [
    {
     "name": "stdout",
     "output_type": "stream",
     "text": [
      "0.06028368794326241\n"
     ]
    }
   ],
   "source": [
    "#вариант 1. вероятность получения пары третьим игроком \n",
    "#если первому и второму игроку раздали РАЗНЫЕ пары\n",
    "trd_player_1 = (combination(11,1)*pair+combination(2,2)+combination(2,2))/combination(48,2)\n",
    "print(trd_player_1)"
   ]
  },
  {
   "cell_type": "code",
   "execution_count": 7,
   "id": "91cf5299-cb92-4957-8c87-d8ecba2b347a",
   "metadata": {},
   "outputs": [
    {
     "name": "stdout",
     "output_type": "stream",
     "text": [
      "0.06382978723404255\n"
     ]
    }
   ],
   "source": [
    "#вариант 2. вероятность получения пары третьим игроком \n",
    "#если первому и второму игроку раздали ОДИНАКОВЫЕ пары\n",
    "trd_player_2 = combination(12,1)*pair/combination(48,2)\n",
    "print(trd_player_2)"
   ]
  },
  {
   "cell_type": "code",
   "execution_count": 10,
   "id": "0307b39f-62bc-43e6-94b1-aa226b89c079",
   "metadata": {},
   "outputs": [
    {
     "name": "stdout",
     "output_type": "stream",
     "text": [
      "вероятность получения трех пар если у первых двух игроков РАЗНЫЕ пары= 0.021131856998118394 %\n",
      "вероятность получения трех пар если у двух игроков ОДИНАКОВЫЕ пары= 0.022374907409772417 %\n"
     ]
    }
   ],
   "source": [
    "#вариант 1. Итоговая вероятность события получение трех пар если у первых двух игроков РАЗНЫЕ пары\n",
    "final_1 = first_player*second_player*trd_player_1\n",
    "\n",
    "#вариант 2. Итоговая вероятность события получение трех пар если у двух игроков ОДИНАКОВЫЕ пары\n",
    "final_2 = first_player*second_player*trd_player_2\n",
    "\n",
    "print(\"вероятность получения трех пар если у первых двух игроков РАЗНЫЕ пары=\", final_1*100, \"%\")\n",
    "print(\"вероятность получения трех пар если у двух игроков ОДИНАКОВЫЕ пары=\", final_2*100, \"%\")"
   ]
  },
  {
   "cell_type": "code",
   "execution_count": null,
   "id": "3d0abd9d-076a-40f0-b1f7-224b94f59682",
   "metadata": {},
   "outputs": [],
   "source": []
  }
 ],
 "metadata": {
  "kernelspec": {
   "display_name": "Python [conda env:base] *",
   "language": "python",
   "name": "conda-base-py"
  },
  "language_info": {
   "codemirror_mode": {
    "name": "ipython",
    "version": 3
   },
   "file_extension": ".py",
   "mimetype": "text/x-python",
   "name": "python",
   "nbconvert_exporter": "python",
   "pygments_lexer": "ipython3",
   "version": "3.12.7"
  }
 },
 "nbformat": 4,
 "nbformat_minor": 5
}
